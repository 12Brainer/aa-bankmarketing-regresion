{
  "nbformat": 4,
  "nbformat_minor": 0,
  "metadata": {
    "colab": {
      "provenance": [],
      "include_colab_link": true
    },
    "kernelspec": {
      "name": "python3",
      "display_name": "Python 3"
    },
    "language_info": {
      "name": "python"
    }
  },
  "cells": [
    {
      "cell_type": "markdown",
      "metadata": {
        "id": "view-in-github",
        "colab_type": "text"
      },
      "source": [
        "<a href=\"https://colab.research.google.com/github/12Brainer/aa-bankmarketing-regresion/blob/main/TP02_banco.ipynb\" target=\"_parent\"><img src=\"https://colab.research.google.com/assets/colab-badge.svg\" alt=\"Open In Colab\"/></a>"
      ]
    },
    {
      "cell_type": "markdown",
      "source": [
        "Alumnos:\n",
        "Brainer Fallas Prado,\n",
        "Raamses Olivier Martinez Gutierrez\n",
        "\n",
        "---\n",
        "\n"
      ],
      "metadata": {
        "id": "7yjUTMytQ55q"
      }
    },
    {
      "cell_type": "markdown",
      "source": [
        "# **1. Diseñe su experimento:**(5 puntos) Describa en detalle el flujo de trabajo completo para realizar su experimento."
      ],
      "metadata": {
        "id": "oMbBTp_GQOog"
      }
    },
    {
      "cell_type": "markdown",
      "source": [
        "Diseño del Experimento de Regresión para el Dataset bank-full\n",
        "1. Objetivo del experimento:\n",
        "Predecir un valor numérico relacionado con los clientes bancarios usando las variables disponibles en el dataset bank-full. Por ejemplo, estimar la probabilidad de respuesta a una campaña o una variable continua derivada (como el monto de un depósito).\n",
        "\n",
        "2. Preparación de los datos:\n",
        "\n",
        "Exploración inicial:\n",
        "\n",
        "Análisis estadístico de las variables numéricas y categóricas.\n",
        "\n",
        "Identificación y tratamiento de valores faltantes o inconsistentes.\n",
        "\n",
        "Análisis de balance en la variable objetivo (en regresión, observar distribución y rangos).\n",
        "\n",
        "Preprocesamiento:\n",
        "\n",
        "Codificación de variables categóricas (OneHotEncoder o similar).\n",
        "\n",
        "Escalado de variables numéricas (MinMaxScaler) para facilitar el aprendizaje del modelo.\n",
        "\n",
        "3. División del conjunto de datos:\n",
        "\n",
        "Separar los datos en conjunto de entrenamiento (80%) y conjunto de evaluación (20%), asegurando que la distribución de la variable objetivo se mantenga representativa (puede usarse estratificación si la variable es categórica o agrupada).\n",
        "\n",
        "4. Selección y entrenamiento de modelos:\n",
        "\n",
        "Probar modelos de regresión como:\n",
        "\n",
        "Árboles de decisión para regresión.\n",
        "\n",
        "Random Forest Regressor.\n",
        "\n",
        "Redes neuronales (MLPRegressor).\n",
        "\n",
        "Ajustar hiperparámetros relevantes, como profundidad del árbol o número de estimadores.\n",
        "\n",
        "5. Validación y evaluación:\n",
        "\n",
        "Utilizar validación cruzada repetida (por ejemplo, RepeatedKFold) para estimar la performance promedio y estabilidad.\n",
        "\n",
        "Métricas para evaluar el desempeño:\n",
        "\n",
        "Precisión.\n",
        "\n",
        "Recall.\n",
        "\n",
        "F1.\n"
      ],
      "metadata": {
        "id": "Y_ct9OYqQqvK"
      }
    },
    {
      "cell_type": "code",
      "source": [
        "!pip install category-encoders"
      ],
      "metadata": {
        "colab": {
          "base_uri": "https://localhost:8080/"
        },
        "id": "MGQcwdngtJxT",
        "outputId": "7397fe95-e7bb-4221-a145-d850c3949c76"
      },
      "execution_count": null,
      "outputs": [
        {
          "output_type": "stream",
          "name": "stdout",
          "text": [
            "Requirement already satisfied: category-encoders in /usr/local/lib/python3.11/dist-packages (2.8.1)\n",
            "Requirement already satisfied: numpy>=1.14.0 in /usr/local/lib/python3.11/dist-packages (from category-encoders) (2.0.2)\n",
            "Requirement already satisfied: pandas>=1.0.5 in /usr/local/lib/python3.11/dist-packages (from category-encoders) (2.2.2)\n",
            "Requirement already satisfied: patsy>=0.5.1 in /usr/local/lib/python3.11/dist-packages (from category-encoders) (1.0.1)\n",
            "Requirement already satisfied: scikit-learn>=1.6.0 in /usr/local/lib/python3.11/dist-packages (from category-encoders) (1.6.1)\n",
            "Requirement already satisfied: scipy>=1.0.0 in /usr/local/lib/python3.11/dist-packages (from category-encoders) (1.16.1)\n",
            "Requirement already satisfied: statsmodels>=0.9.0 in /usr/local/lib/python3.11/dist-packages (from category-encoders) (0.14.5)\n",
            "Requirement already satisfied: python-dateutil>=2.8.2 in /usr/local/lib/python3.11/dist-packages (from pandas>=1.0.5->category-encoders) (2.9.0.post0)\n",
            "Requirement already satisfied: pytz>=2020.1 in /usr/local/lib/python3.11/dist-packages (from pandas>=1.0.5->category-encoders) (2025.2)\n",
            "Requirement already satisfied: tzdata>=2022.7 in /usr/local/lib/python3.11/dist-packages (from pandas>=1.0.5->category-encoders) (2025.2)\n",
            "Requirement already satisfied: joblib>=1.2.0 in /usr/local/lib/python3.11/dist-packages (from scikit-learn>=1.6.0->category-encoders) (1.5.1)\n",
            "Requirement already satisfied: threadpoolctl>=3.1.0 in /usr/local/lib/python3.11/dist-packages (from scikit-learn>=1.6.0->category-encoders) (3.6.0)\n",
            "Requirement already satisfied: packaging>=21.3 in /usr/local/lib/python3.11/dist-packages (from statsmodels>=0.9.0->category-encoders) (25.0)\n",
            "Requirement already satisfied: six>=1.5 in /usr/local/lib/python3.11/dist-packages (from python-dateutil>=2.8.2->pandas>=1.0.5->category-encoders) (1.17.0)\n"
          ]
        }
      ]
    },
    {
      "cell_type": "markdown",
      "source": [],
      "metadata": {
        "id": "6A1LSm1LQT2V"
      }
    },
    {
      "cell_type": "code",
      "execution_count": null,
      "metadata": {
        "id": "AWVkDG4Wt-gn"
      },
      "outputs": [],
      "source": [
        "# General libraries\n",
        "import numpy as np\n",
        "import pandas as pd\n",
        "from prettytable import PrettyTable\n",
        "import category_encoders as ce\n",
        "\n",
        "# Form Scikit-Learn\n",
        "from sklearn.metrics import mean_squared_error, mean_absolute_error\n",
        "from sklearn.preprocessing import MinMaxScaler\n",
        "from sklearn.metrics import r2_score\n",
        "from sklearn.tree import DecisionTreeClassifier\n",
        "from sklearn import tree\n",
        "from sklearn.preprocessing import LabelEncoder\n",
        "from sklearn.model_selection import train_test_split\n",
        "from sklearn.model_selection import RepeatedStratifiedKFold, cross_validate\n",
        "from sklearn.model_selection import StratifiedKFold\n",
        "from sklearn.metrics import classification_report, confusion_matrix\n",
        "from sklearn.svm import LinearSVC\n",
        "from sklearn.metrics import precision_score, recall_score, f1_score\n",
        "\n",
        "\n",
        "# Anomalies detection\n",
        "from sklearn.ensemble import RandomForestClassifier\n",
        "\n",
        "# From Pytorch\n",
        "import torch\n",
        "import torch.nn as nn\n",
        "import torch.optim as optim\n",
        "from torch.utils.data import Dataset, DataLoader, random_split\n",
        "\n",
        "# Graphics\n",
        "import matplotlib.pyplot as plt"
      ]
    },
    {
      "cell_type": "markdown",
      "source": [
        "**2. Preprocesamiento**\n",
        "- a) (2 puntos) Describa el conjunto de datos y referencie la fuente. El conjunto de datos debe tener al menos 3000 registros y al menos ocho atributos.\n",
        "- b) Cargue el conjunto de datos.\n",
        "- c) (2 puntos) Explore el conjunto de datos, visualice algunas estadísticas (incluya un análisis del balance de las clases), limpie el conjunto de datos, verifique que no existan valores faltantes y codifique las variables categóricas.\n",
        "- d) (2 puntos) Escale los datos.\n",
        "- e) (1 punto) Separe los datos en datos de entrenamiento y evaluación (80/20% respectivamente)."
      ],
      "metadata": {
        "id": "xKAlg905RN94"
      }
    },
    {
      "cell_type": "markdown",
      "source": [
        "a) (2 puntos) Describa el conjunto de datos y referencie la fuente. El conjunto de datos debe tener al menos 3000 registros y al menos ocho atributos."
      ],
      "metadata": {
        "id": "d9TXVFWERiTw"
      }
    },
    {
      "cell_type": "markdown",
      "source": [
        "Contiene 45,211 registros y 17 atributos de una campaña de marketing directo de un banco, incluyendo datos demográficos, financieros y de contacto. La variable objetivo (y) indica si el cliente suscribió un depósito a plazo fijo.\n",
        "Fuente: Kaggle – Bank Marketing Dataset. Disponible en: https://www.kaggle.com/datasets/janiobachmann/bank-marketing-dataset"
      ],
      "metadata": {
        "id": "9mxstK-yRdYC"
      }
    },
    {
      "cell_type": "markdown",
      "source": [
        "b) Cargue el conjunto de datos."
      ],
      "metadata": {
        "id": "2KX2zo95RlY-"
      }
    },
    {
      "cell_type": "code",
      "source": [
        "df = pd.read_csv('bank-full.csv', encoding='utf-8', sep=';')\n",
        "\n",
        "# Dimensiones del dataset\n",
        "\n",
        "# Número de filas\n",
        "print(\"Filas: \", df.shape[0])\n",
        "\n",
        "# Número de columnas\n",
        "print(\"Columnas: \", df.shape[1])\n",
        "\n",
        "# Columnas del dataset\n",
        "print(\"Columnas: \", df.columns.to_list())\n",
        "\n",
        "# Elementos estadísticos\n",
        "print(df.describe())\n",
        "\n",
        "# Detectar elementos nulos en las columnas del dataframe\n",
        "df.isna().any()"
      ],
      "metadata": {
        "colab": {
          "base_uri": "https://localhost:8080/",
          "height": 999
        },
        "id": "ZAAaif67uEK4",
        "outputId": "b823852f-d96f-4b1f-f657-b0bc280a6c29"
      },
      "execution_count": null,
      "outputs": [
        {
          "output_type": "stream",
          "name": "stdout",
          "text": [
            "Filas:  45211\n",
            "Columnas:  17\n",
            "Columnas:  ['age', 'job', 'marital', 'education', 'default', 'balance', 'housing', 'loan', 'contact', 'day', 'month', 'duration', 'campaign', 'pdays', 'previous', 'poutcome', 'y']\n",
            "                age        balance           day      duration      campaign  \\\n",
            "count  45211.000000   45211.000000  45211.000000  45211.000000  45211.000000   \n",
            "mean      40.936210    1362.272058     15.806419    258.163080      2.763841   \n",
            "std       10.618762    3044.765829      8.322476    257.527812      3.098021   \n",
            "min       18.000000   -8019.000000      1.000000      0.000000      1.000000   \n",
            "25%       33.000000      72.000000      8.000000    103.000000      1.000000   \n",
            "50%       39.000000     448.000000     16.000000    180.000000      2.000000   \n",
            "75%       48.000000    1428.000000     21.000000    319.000000      3.000000   \n",
            "max       95.000000  102127.000000     31.000000   4918.000000     63.000000   \n",
            "\n",
            "              pdays      previous  \n",
            "count  45211.000000  45211.000000  \n",
            "mean      40.197828      0.580323  \n",
            "std      100.128746      2.303441  \n",
            "min       -1.000000      0.000000  \n",
            "25%       -1.000000      0.000000  \n",
            "50%       -1.000000      0.000000  \n",
            "75%       -1.000000      0.000000  \n",
            "max      871.000000    275.000000  \n"
          ]
        },
        {
          "output_type": "execute_result",
          "data": {
            "text/plain": [
              "age          False\n",
              "job          False\n",
              "marital      False\n",
              "education    False\n",
              "default      False\n",
              "balance      False\n",
              "housing      False\n",
              "loan         False\n",
              "contact      False\n",
              "day          False\n",
              "month        False\n",
              "duration     False\n",
              "campaign     False\n",
              "pdays        False\n",
              "previous     False\n",
              "poutcome     False\n",
              "y            False\n",
              "dtype: bool"
            ],
            "text/html": [
              "<div>\n",
              "<style scoped>\n",
              "    .dataframe tbody tr th:only-of-type {\n",
              "        vertical-align: middle;\n",
              "    }\n",
              "\n",
              "    .dataframe tbody tr th {\n",
              "        vertical-align: top;\n",
              "    }\n",
              "\n",
              "    .dataframe thead th {\n",
              "        text-align: right;\n",
              "    }\n",
              "</style>\n",
              "<table border=\"1\" class=\"dataframe\">\n",
              "  <thead>\n",
              "    <tr style=\"text-align: right;\">\n",
              "      <th></th>\n",
              "      <th>0</th>\n",
              "    </tr>\n",
              "  </thead>\n",
              "  <tbody>\n",
              "    <tr>\n",
              "      <th>age</th>\n",
              "      <td>False</td>\n",
              "    </tr>\n",
              "    <tr>\n",
              "      <th>job</th>\n",
              "      <td>False</td>\n",
              "    </tr>\n",
              "    <tr>\n",
              "      <th>marital</th>\n",
              "      <td>False</td>\n",
              "    </tr>\n",
              "    <tr>\n",
              "      <th>education</th>\n",
              "      <td>False</td>\n",
              "    </tr>\n",
              "    <tr>\n",
              "      <th>default</th>\n",
              "      <td>False</td>\n",
              "    </tr>\n",
              "    <tr>\n",
              "      <th>balance</th>\n",
              "      <td>False</td>\n",
              "    </tr>\n",
              "    <tr>\n",
              "      <th>housing</th>\n",
              "      <td>False</td>\n",
              "    </tr>\n",
              "    <tr>\n",
              "      <th>loan</th>\n",
              "      <td>False</td>\n",
              "    </tr>\n",
              "    <tr>\n",
              "      <th>contact</th>\n",
              "      <td>False</td>\n",
              "    </tr>\n",
              "    <tr>\n",
              "      <th>day</th>\n",
              "      <td>False</td>\n",
              "    </tr>\n",
              "    <tr>\n",
              "      <th>month</th>\n",
              "      <td>False</td>\n",
              "    </tr>\n",
              "    <tr>\n",
              "      <th>duration</th>\n",
              "      <td>False</td>\n",
              "    </tr>\n",
              "    <tr>\n",
              "      <th>campaign</th>\n",
              "      <td>False</td>\n",
              "    </tr>\n",
              "    <tr>\n",
              "      <th>pdays</th>\n",
              "      <td>False</td>\n",
              "    </tr>\n",
              "    <tr>\n",
              "      <th>previous</th>\n",
              "      <td>False</td>\n",
              "    </tr>\n",
              "    <tr>\n",
              "      <th>poutcome</th>\n",
              "      <td>False</td>\n",
              "    </tr>\n",
              "    <tr>\n",
              "      <th>y</th>\n",
              "      <td>False</td>\n",
              "    </tr>\n",
              "  </tbody>\n",
              "</table>\n",
              "</div><br><label><b>dtype:</b> bool</label>"
            ]
          },
          "metadata": {},
          "execution_count": 56
        }
      ]
    },
    {
      "cell_type": "markdown",
      "source": [
        "c) (2 puntos) Explore el conjunto de datos, visualice algunas estadísticas (incluya un análisis del balance de las clases), limpie el conjunto de datos, verifique que no existan valores faltantes y codifique las variables categóricas."
      ],
      "metadata": {
        "id": "5OpW64VYRqXf"
      }
    },
    {
      "cell_type": "code",
      "source": [
        "# Análisis del balance de clases\n",
        "# Los resultados muestra un desbalance de clases en el target debido a que hay más registros de una clase que de la otra\n",
        "df.y.value_counts()"
      ],
      "metadata": {
        "colab": {
          "base_uri": "https://localhost:8080/",
          "height": 178
        },
        "id": "vlcaqoGtk31B",
        "outputId": "e1e6de3b-7411-49cf-a672-85b6fb3f9208"
      },
      "execution_count": null,
      "outputs": [
        {
          "output_type": "execute_result",
          "data": {
            "text/plain": [
              "y\n",
              "no     39922\n",
              "yes     5289\n",
              "Name: count, dtype: int64"
            ],
            "text/html": [
              "<div>\n",
              "<style scoped>\n",
              "    .dataframe tbody tr th:only-of-type {\n",
              "        vertical-align: middle;\n",
              "    }\n",
              "\n",
              "    .dataframe tbody tr th {\n",
              "        vertical-align: top;\n",
              "    }\n",
              "\n",
              "    .dataframe thead th {\n",
              "        text-align: right;\n",
              "    }\n",
              "</style>\n",
              "<table border=\"1\" class=\"dataframe\">\n",
              "  <thead>\n",
              "    <tr style=\"text-align: right;\">\n",
              "      <th></th>\n",
              "      <th>count</th>\n",
              "    </tr>\n",
              "    <tr>\n",
              "      <th>y</th>\n",
              "      <th></th>\n",
              "    </tr>\n",
              "  </thead>\n",
              "  <tbody>\n",
              "    <tr>\n",
              "      <th>no</th>\n",
              "      <td>39922</td>\n",
              "    </tr>\n",
              "    <tr>\n",
              "      <th>yes</th>\n",
              "      <td>5289</td>\n",
              "    </tr>\n",
              "  </tbody>\n",
              "</table>\n",
              "</div><br><label><b>dtype:</b> int64</label>"
            ]
          },
          "metadata": {},
          "execution_count": 57
        }
      ]
    },
    {
      "cell_type": "code",
      "source": [
        "# Mostramos un gráfico de distribución de las categorías\n",
        "# Conteo de categorías\n",
        "conteo = df.y.value_counts()\n",
        "\n",
        "# Gráfico de barras\n",
        "plt.figure(figsize=(6,4))\n",
        "conteo.plot(kind='bar', color='skyblue', edgecolor='black')\n",
        "\n",
        "# Etiquetas y título\n",
        "plt.xlabel('Categorías')\n",
        "plt.ylabel('Frecuencia')\n",
        "plt.title('Distribución de categorías (target)')\n",
        "plt.xticks(rotation=45)\n",
        "\n",
        "# Mostrar valores encima de las barras\n",
        "for i, valor in enumerate(conteo):\n",
        "    plt.text(i, valor + 0.5, str(valor), ha='center')\n",
        "\n",
        "plt.tight_layout()\n",
        "plt.show()"
      ],
      "metadata": {
        "colab": {
          "base_uri": "https://localhost:8080/",
          "height": 407
        },
        "id": "QaW4VAY1ydif",
        "outputId": "40089114-2527-4e11-b64e-92dab2192e43"
      },
      "execution_count": null,
      "outputs": [
        {
          "output_type": "display_data",
          "data": {
            "text/plain": [
              "<Figure size 600x400 with 1 Axes>"
            ],
            "image/png": "[encoded data removed]"
          },
          "metadata": {}
        }
      ]
    },
    {
      "cell_type": "code",
      "source": [
        "# Obteniendo conteo y lista de valores únicos por columna\n",
        "for col in df.columns:\n",
        "    print(f\"Columna: {col}\")\n",
        "    print(f\"Valores únicos ({df[col].nunique()}): {df[col].unique()}\")\n",
        "    print(\"-\" * 40)"
      ],
      "metadata": {
        "colab": {
          "base_uri": "https://localhost:8080/"
        },
        "id": "khy6Cxhyo1DG",
        "outputId": "adf7f418-3c6b-4996-b678-65a351bbae9b"
      },
      "execution_count": null,
      "outputs": [
        {
          "output_type": "stream",
          "name": "stdout",
          "text": [
            "Columna: age\n",
            "Valores únicos (77): [58 44 33 47 35 28 42 43 41 29 53 57 51 45 60 56 32 25 40 39 52 46 36 49\n",
            " 59 37 50 54 55 48 24 38 31 30 27 34 23 26 61 22 21 20 66 62 83 75 67 70\n",
            " 65 68 64 69 72 71 19 76 85 63 90 82 73 74 78 80 94 79 77 86 95 81 18 89\n",
            " 84 87 92 93 88]\n",
            "----------------------------------------\n",
            "Columna: job\n",
            "Valores únicos (12): ['management' 'technician' 'entrepreneur' 'blue-collar' 'unknown'\n",
            " 'retired' 'admin.' 'services' 'self-employed' 'unemployed' 'housemaid'\n",
            " 'student']\n",
            "----------------------------------------\n",
            "Columna: marital\n",
            "Valores únicos (3): ['married' 'single' 'divorced']\n",
            "----------------------------------------\n",
            "Columna: education\n",
            "Valores únicos (4): ['tertiary' 'secondary' 'unknown' 'primary']\n",
            "----------------------------------------\n",
            "Columna: default\n",
            "Valores únicos (2): ['no' 'yes']\n",
            "----------------------------------------\n",
            "Columna: balance\n",
            "Valores únicos (7168): [ 2143    29     2 ...  8205 14204 16353]\n",
            "----------------------------------------\n",
            "Columna: housing\n",
            "Valores únicos (2): ['yes' 'no']\n",
            "----------------------------------------\n",
            "Columna: loan\n",
            "Valores únicos (2): ['no' 'yes']\n",
            "----------------------------------------\n",
            "Columna: contact\n",
            "Valores únicos (3): ['unknown' 'cellular' 'telephone']\n",
            "----------------------------------------\n",
            "Columna: day\n",
            "Valores únicos (31): [ 5  6  7  8  9 12 13 14 15 16 19 20 21 23 26 27 28 29 30  2  3  4 11 17\n",
            " 18 24 25  1 10 22 31]\n",
            "----------------------------------------\n",
            "Columna: month\n",
            "Valores únicos (12): ['may' 'jun' 'jul' 'aug' 'oct' 'nov' 'dec' 'jan' 'feb' 'mar' 'apr' 'sep']\n",
            "----------------------------------------\n",
            "Columna: duration\n",
            "Valores únicos (1573): [ 261  151   76 ... 1298 1246 1556]\n",
            "----------------------------------------\n",
            "Columna: campaign\n",
            "Valores únicos (48): [ 1  2  3  5  4  6  7  8  9 10 11 12 13 19 14 24 16 32 18 22 15 17 25 21\n",
            " 43 51 63 41 26 28 55 50 38 23 20 29 31 37 30 46 27 58 33 35 34 36 39 44]\n",
            "----------------------------------------\n",
            "Columna: pdays\n",
            "Valores únicos (559): [ -1 151 166  91  86 143 147  89 140 176 101 174 170 167 195 165 129 188\n",
            " 196 172 118 119 104 171 117 164 132 131 123 159 186 111 115 116 173 178\n",
            " 110 152  96 103 150 175 193 181 185 154 145 138 126 180 109 158 168  97\n",
            " 182 127 130 194 125 105 102  26 179  28 183 155 112 120 137 124 187 190\n",
            " 113 162 134 169 189   8 144 191 184 177   5  99 133  93  92  10 100 156\n",
            " 198 106 153 146 128   7 121 160 107  90  27 197 136 139 122 157 149 135\n",
            "  30 114  98 192 163  34  95 141  31 199  94 108  29 268 247 253 226 244\n",
            " 239 245 204 231 238 258 230 254 265  71 223 246 250 266 240 205 261 259\n",
            " 241 260 234 251 225 161 237 262 248 255 220 227 206 224 249 235 228 263\n",
            "   2 270 232 252 207 200 269 233 256 273 272 242 264 208 214 222 271 203\n",
            " 221 202 216 201 257 229 210 217  75 213  73  76 267 211 215  77 236  82\n",
            "   6 209 274   1 243 212 275  80 276   9 279  12 280  88 277  85  84 219\n",
            "  24  21 282  41 294  49 329 307 303 331 308 300  64 314 287 330 332 302\n",
            " 323 318 333  60 326 335 313 312 305 325 327 336 309 328 322  39 316 292\n",
            " 295 310 306 320 317 289  57 321 142 339 301 315 337 334 340 319  17  74\n",
            " 148 341 299 344 342 324 345 346 304 281 343 338  14 347  15 291 348 349\n",
            " 285 350 284  25 283 278  81   4  87  83  79  70  13 293  37  78  63  22\n",
            " 296 355  66  19  35 360 357 354 351 362 358 365 298 286 364 363  47 361\n",
            " 288 366 356 352 359 297 367 353 368  42 290  67 371 370 369  50  36 373\n",
            " 374 372 311 375 378  59 379  40  18  43  20  69  38 385  56  55  44 391\n",
            "  72 390  32  62 399 393  65 377 395 388 389 386  61 412 405 434 394 382\n",
            " 459 440 397 383  68 461 462 463 422  51 457 430 442 403 454 428 392 410\n",
            " 401 474 475 477 478  54 476 380 479  45  46 495  58  48 518  52 515 520\n",
            " 511 536 387 218  33 544 435 436 555 433 446 558 469 616 561 553 384 592\n",
            " 467 585 480 421 667 626 426 595 381 376 648 521 452 449 633 398  53 460\n",
            " 670 551 414 557 687 404 651 686 425 504 578 674 416 586 411 756 450 745\n",
            " 514 417 424 776 396 683 529 439 415 456 407 458 532 481 791 701 531 792\n",
            " 413 445 535 784 419 455 491 431 542 470 472 717 437   3 782 728 828 524\n",
            " 562 761 492 775 579 493 464 760 466 465 656 831 490 432 655 427 749 838\n",
            " 769 587 778 854 779 850 771 594 842 589 603 484 489 486 409 444 680 808\n",
            " 485 503 690 772 774 526 420 528 500 826 804 508 547 805 541 543 871 550\n",
            " 530]\n",
            "----------------------------------------\n",
            "Columna: previous\n",
            "Valores únicos (41): [  0   3   1   4   2  11  16   6   5  10  12   7  18   9  21   8  14  15\n",
            "  26  37  13  25  20  27  17  23  38  29  24  51 275  22  19  30  58  28\n",
            "  32  40  55  35  41]\n",
            "----------------------------------------\n",
            "Columna: poutcome\n",
            "Valores únicos (4): ['unknown' 'failure' 'other' 'success']\n",
            "----------------------------------------\n",
            "Columna: y\n",
            "Valores únicos (2): ['no' 'yes']\n",
            "----------------------------------------\n"
          ]
        }
      ]
    },
    {
      "cell_type": "code",
      "source": [
        "# Encoding de target\n",
        "y = df[\"y\"]\n",
        "label_enc = LabelEncoder()\n",
        "y_encoded = label_enc.fit_transform(y)\n",
        "\n",
        "# Identificar columnas categóricas que contienen texto\n",
        "df = df.drop(columns=[\"y\"])\n",
        "cat_cols = [col for col in df.columns if df[col].dtype == 'object']\n",
        "print(\"Columnas categóricas detectadas (textuales):\", cat_cols)"
      ],
      "metadata": {
        "colab": {
          "base_uri": "https://localhost:8080/"
        },
        "id": "p-mlWeDFupcS",
        "outputId": "8d724985-cbee-403c-d404-3db37071221d"
      },
      "execution_count": null,
      "outputs": [
        {
          "output_type": "stream",
          "name": "stdout",
          "text": [
            "Columnas categóricas detectadas (textuales): ['job', 'marital', 'education', 'default', 'housing', 'loan', 'contact', 'month', 'poutcome']\n"
          ]
        }
      ]
    },
    {
      "cell_type": "code",
      "source": [
        "# Aplicar OneHotEncoder a todas esas columnas\n",
        "encoder = ce.OneHotEncoder(cols=cat_cols, use_cat_names=True, return_df=True)\n",
        "df = encoder.fit_transform(df)\n",
        "print(df)"
      ],
      "metadata": {
        "colab": {
          "base_uri": "https://localhost:8080/"
        },
        "id": "vG8JsYSuvc-0",
        "outputId": "fdad83eb-3b29-4ee8-ca77-4e175fb8b698"
      },
      "execution_count": null,
      "outputs": [
        {
          "output_type": "stream",
          "name": "stdout",
          "text": [
            "       age  job_management  job_technician  job_entrepreneur  job_blue-collar  \\\n",
            "0       58               1               0                 0                0   \n",
            "1       44               0               1                 0                0   \n",
            "2       33               0               0                 1                0   \n",
            "3       47               0               0                 0                1   \n",
            "4       33               0               0                 0                0   \n",
            "...    ...             ...             ...               ...              ...   \n",
            "45206   51               0               1                 0                0   \n",
            "45207   71               0               0                 0                0   \n",
            "45208   72               0               0                 0                0   \n",
            "45209   57               0               0                 0                1   \n",
            "45210   37               0               0                 1                0   \n",
            "\n",
            "       job_unknown  job_retired  job_admin.  job_services  job_self-employed  \\\n",
            "0                0            0           0             0                  0   \n",
            "1                0            0           0             0                  0   \n",
            "2                0            0           0             0                  0   \n",
            "3                0            0           0             0                  0   \n",
            "4                1            0           0             0                  0   \n",
            "...            ...          ...         ...           ...                ...   \n",
            "45206            0            0           0             0                  0   \n",
            "45207            0            1           0             0                  0   \n",
            "45208            0            1           0             0                  0   \n",
            "45209            0            0           0             0                  0   \n",
            "45210            0            0           0             0                  0   \n",
            "\n",
            "       ...  month_apr  month_sep  duration  campaign  pdays  previous  \\\n",
            "0      ...          0          0       261         1     -1         0   \n",
            "1      ...          0          0       151         1     -1         0   \n",
            "2      ...          0          0        76         1     -1         0   \n",
            "3      ...          0          0        92         1     -1         0   \n",
            "4      ...          0          0       198         1     -1         0   \n",
            "...    ...        ...        ...       ...       ...    ...       ...   \n",
            "45206  ...          0          0       977         3     -1         0   \n",
            "45207  ...          0          0       456         2     -1         0   \n",
            "45208  ...          0          0      1127         5    184         3   \n",
            "45209  ...          0          0       508         4     -1         0   \n",
            "45210  ...          0          0       361         2    188        11   \n",
            "\n",
            "       poutcome_unknown  poutcome_failure  poutcome_other  poutcome_success  \n",
            "0                     1                 0               0                 0  \n",
            "1                     1                 0               0                 0  \n",
            "2                     1                 0               0                 0  \n",
            "3                     1                 0               0                 0  \n",
            "4                     1                 0               0                 0  \n",
            "...                 ...               ...             ...               ...  \n",
            "45206                 1                 0               0                 0  \n",
            "45207                 1                 0               0                 0  \n",
            "45208                 0                 0               0                 1  \n",
            "45209                 1                 0               0                 0  \n",
            "45210                 0                 0               1                 0  \n",
            "\n",
            "[45211 rows x 51 columns]\n"
          ]
        }
      ]
    },
    {
      "cell_type": "code",
      "source": [
        "# Verificar que solo existan features numéricas\n",
        "cat_cols = [col for col in df.columns if df[col].dtype == 'object']\n",
        "assert len(cat_cols) == 0, \"Se han detectado columnas con texto\""
      ],
      "metadata": {
        "id": "Ple7aKDQ1zTs"
      },
      "execution_count": null,
      "outputs": []
    },
    {
      "cell_type": "markdown",
      "source": [
        "d) (2 puntos) Escale los datos."
      ],
      "metadata": {
        "id": "9qywMh30R1Qm"
      }
    },
    {
      "cell_type": "code",
      "source": [
        "# Rescaling de matriz de features (separando el target temporalmente)\n",
        "features_to_scale = df\n",
        "scaler = MinMaxScaler().fit(features_to_scale)\n",
        "scaled_features = scaler.transform(features_to_scale)\n",
        "\n",
        "# Reconstrucción del dataframe con base en los nuevos valores rescalados\n",
        "df = pd.DataFrame(scaled_features, columns=features_to_scale.columns)\n",
        "df[\"y\"] = y_encoded\n",
        "print(df)"
      ],
      "metadata": {
        "colab": {
          "base_uri": "https://localhost:8080/"
        },
        "id": "D0ujmvke1DlI",
        "outputId": "5d6cacd8-2d99-4597-f6ec-7e5d084901c9"
      },
      "execution_count": null,
      "outputs": [
        {
          "output_type": "stream",
          "name": "stdout",
          "text": [
            "            age  job_management  job_technician  job_entrepreneur  \\\n",
            "0      0.519481             1.0             0.0               0.0   \n",
            "1      0.337662             0.0             1.0               0.0   \n",
            "2      0.194805             0.0             0.0               1.0   \n",
            "3      0.376623             0.0             0.0               0.0   \n",
            "4      0.194805             0.0             0.0               0.0   \n",
            "...         ...             ...             ...               ...   \n",
            "45206  0.428571             0.0             1.0               0.0   \n",
            "45207  0.688312             0.0             0.0               0.0   \n",
            "45208  0.701299             0.0             0.0               0.0   \n",
            "45209  0.506494             0.0             0.0               0.0   \n",
            "45210  0.246753             0.0             0.0               1.0   \n",
            "\n",
            "       job_blue-collar  job_unknown  job_retired  job_admin.  job_services  \\\n",
            "0                  0.0          0.0          0.0         0.0           0.0   \n",
            "1                  0.0          0.0          0.0         0.0           0.0   \n",
            "2                  0.0          0.0          0.0         0.0           0.0   \n",
            "3                  1.0          0.0          0.0         0.0           0.0   \n",
            "4                  0.0          1.0          0.0         0.0           0.0   \n",
            "...                ...          ...          ...         ...           ...   \n",
            "45206              0.0          0.0          0.0         0.0           0.0   \n",
            "45207              0.0          0.0          1.0         0.0           0.0   \n",
            "45208              0.0          0.0          1.0         0.0           0.0   \n",
            "45209              1.0          0.0          0.0         0.0           0.0   \n",
            "45210              0.0          0.0          0.0         0.0           0.0   \n",
            "\n",
            "       job_self-employed  ...  month_sep  duration  campaign     pdays  \\\n",
            "0                    0.0  ...        0.0  0.053070  0.000000  0.000000   \n",
            "1                    0.0  ...        0.0  0.030704  0.000000  0.000000   \n",
            "2                    0.0  ...        0.0  0.015453  0.000000  0.000000   \n",
            "3                    0.0  ...        0.0  0.018707  0.000000  0.000000   \n",
            "4                    0.0  ...        0.0  0.040260  0.000000  0.000000   \n",
            "...                  ...  ...        ...       ...       ...       ...   \n",
            "45206                0.0  ...        0.0  0.198658  0.032258  0.000000   \n",
            "45207                0.0  ...        0.0  0.092721  0.016129  0.000000   \n",
            "45208                0.0  ...        0.0  0.229158  0.064516  0.212156   \n",
            "45209                0.0  ...        0.0  0.103294  0.048387  0.000000   \n",
            "45210                0.0  ...        0.0  0.073404  0.016129  0.216743   \n",
            "\n",
            "       previous  poutcome_unknown  poutcome_failure  poutcome_other  \\\n",
            "0      0.000000               1.0               0.0             0.0   \n",
            "1      0.000000               1.0               0.0             0.0   \n",
            "2      0.000000               1.0               0.0             0.0   \n",
            "3      0.000000               1.0               0.0             0.0   \n",
            "4      0.000000               1.0               0.0             0.0   \n",
            "...         ...               ...               ...             ...   \n",
            "45206  0.000000               1.0               0.0             0.0   \n",
            "45207  0.000000               1.0               0.0             0.0   \n",
            "45208  0.010909               0.0               0.0             0.0   \n",
            "45209  0.000000               1.0               0.0             0.0   \n",
            "45210  0.040000               0.0               0.0             1.0   \n",
            "\n",
            "       poutcome_success  y  \n",
            "0                   0.0  0  \n",
            "1                   0.0  0  \n",
            "2                   0.0  0  \n",
            "3                   0.0  0  \n",
            "4                   0.0  0  \n",
            "...                 ... ..  \n",
            "45206               0.0  1  \n",
            "45207               0.0  1  \n",
            "45208               1.0  1  \n",
            "45209               0.0  0  \n",
            "45210               0.0  0  \n",
            "\n",
            "[45211 rows x 52 columns]\n"
          ]
        }
      ]
    },
    {
      "cell_type": "markdown",
      "source": [
        "(1 punto) Separe los datos en datos de entrenamiento y evaluación (80/20% respectivamente).\n"
      ],
      "metadata": {
        "id": "r06FNJe2R_tF"
      }
    },
    {
      "cell_type": "code",
      "source": [
        "# Separación de conjuntos de datos\n",
        "# train_test_split, particiona los datos\n",
        "\n",
        "X = df.drop(columns=[\"y\"])\n",
        "y = df[\"y\"]\n",
        "x_train, x_test, y_train, y_test = train_test_split(X, y, test_size=0.2, random_state=2)"
      ],
      "metadata": {
        "id": "KI_aHN0i9Mo9"
      },
      "execution_count": null,
      "outputs": []
    },
    {
      "cell_type": "markdown",
      "source": [
        "**Árboles de decisión**\n",
        "- f) (2 puntos) Utilice árboles de decisión para resolver el problema de clasificación.\n",
        "- g) (2 puntos) Utilice validación cruzada para evaluar la precision, el recall y el F1 de los modelos generados.\n",
        "- h) (5 puntos) Realice el ejercicio con al menos 5 niveles diferentes de profundidad de árboles (max_depth) y recomiende cuál es la mejor configuración para este parámetro con el conjunto de datos seleccionado.\n",
        "- i) (3 puntos) Imprima el árbol con la profundidad que genera el mejor desempeño, explique la estructura del árbol (sobre todo qué significan las hojas) y clasifique alguna muestra del conjunto de datos. Explique la ruta que siguió en el árbol y el resultado obtenido."
      ],
      "metadata": {
        "id": "P8OaHPBjSHsF"
      }
    },
    {
      "cell_type": "markdown",
      "source": [
        "(2 puntos) Utilice árboles de decisión para resolver el problema de clasificación.*italicized text*"
      ],
      "metadata": {
        "id": "7v65JK4OSMVu"
      }
    },
    {
      "cell_type": "code",
      "source": [
        "# Árbol de decisión\n",
        "treeM = DecisionTreeClassifier(max_depth=2, random_state=42)\n",
        "treeM.fit(X, y) # entrenamiento del árbol\n",
        "\n",
        "# Se utiliza el método predict para obtener predicciones\n",
        "print(\"Predicciones\")\n",
        "print(treeM.predict(X))\n",
        "print(\"====================================================\")\n",
        "print(\"Probabilidades de que una muestra pertenezca a una clase del target\")\n",
        "# si queremos saber las probabilidades podemos usar el método predict_proba\n",
        "print( treeM.predict_proba(X))"
      ],
      "metadata": {
        "colab": {
          "base_uri": "https://localhost:8080/"
        },
        "id": "JeqEeILcKMFU",
        "outputId": "51be4f98-b5a7-44f6-a39e-9d27a32649a5"
      },
      "execution_count": null,
      "outputs": [
        {
          "output_type": "stream",
          "name": "stdout",
          "text": [
            "Predicciones\n",
            "[0 0 0 ... 1 0 0]\n",
            "====================================================\n",
            "Probabilidades de que una muestra pertenezca a una clase del target\n",
            "[[0.94091061 0.05908939]\n",
            " [0.94091061 0.05908939]\n",
            " [0.94091061 0.05908939]\n",
            " ...\n",
            " [0.41863075 0.58136925]\n",
            " [0.94091061 0.05908939]\n",
            " [0.94091061 0.05908939]]\n"
          ]
        }
      ]
    },
    {
      "cell_type": "markdown",
      "source": [
        "(2 puntos) Utilice validación cruzada para evaluar la precision, el recall y el F1 de los modelos generados."
      ],
      "metadata": {
        "id": "xWHS0LcFSbxB"
      }
    },
    {
      "cell_type": "code",
      "source": [
        "# Obtención de métricsa recall, f1 y accuracy a partir de la matriz de confusión\n",
        "\"\"\"\"\n",
        "→ De todos los casos que el modelo predijo como positivos, el 66.8% realmente lo eran.\n",
        "→ De todos los casos que realmente eran positivos, el modelo detectó correctamente el 30.4%.\n",
        "→ Es la media armónica entre precisión y recall, un balance que penaliza si una de las dos es muy baja.\n",
        "\n",
        "Tu modelo es bastante preciso cuando predice positivos (pocas falsas alarmas).\n",
        "\n",
        "Pero se está perdiendo muchos positivos reales (recall bajo).\n",
        "\n",
        "F1 bajo porque recall está limitando el balance.\n",
        "\"\"\"\n",
        "cross_validator = cv = RepeatedStratifiedKFold(n_splits=10, n_repeats=3, random_state=1)\n",
        "classifier = clf = treeM # pasamos el modelo clasificador que se quiere evaluar; en este caso, el modelo de árbol creado anteriormente\n",
        "\n",
        "\n",
        "# Métricas a evaluar\n",
        "scoring = ['precision', 'recall', 'f1']\n",
        "\n",
        "# Evaluación cruzada\n",
        "resultados = cross_validate(classifier, X, y, scoring=scoring, cv=cv)\n",
        "\n",
        "for metric in scoring:\n",
        "    valores = resultados[f'test_{metric}']\n",
        "    print(f\"{metric.capitalize():<10}: {valores.mean():.3f} ± {valores.std():.3f}\")"
      ],
      "metadata": {
        "colab": {
          "base_uri": "https://localhost:8080/"
        },
        "id": "KCq-9sd2SGFP",
        "outputId": "ebf48e01-b0af-460c-9381-3ba17a52e4f6"
      },
      "execution_count": null,
      "outputs": [
        {
          "output_type": "stream",
          "name": "stdout",
          "text": [
            "Precision : 0.594 ± 0.024\n",
            "Recall    : 0.349 ± 0.014\n",
            "F1        : 0.440 ± 0.015\n"
          ]
        }
      ]
    },
    {
      "cell_type": "markdown",
      "source": [
        "(5 puntos) Realice el ejercicio con al menos 5 niveles diferentes de profundidad de árboles (max_depth) y recomiende cuál es la mejor configuración para este parámetro con el conjunto de datos seleccionado."
      ],
      "metadata": {
        "id": "6Ub8Z-UVSgg1"
      }
    },
    {
      "cell_type": "code",
      "source": [
        "# Árbol de decisión con diferentes profundidades\n",
        "\n",
        "\"\"\"\n",
        "Análisis\n",
        "A medida que aumenta la profundidad, recall mejora notablemente, es decir, el modelo detecta más casos positivos reales.\n",
        "\n",
        "La precisión disminuye ligeramente, lo que indica que el modelo genera un poco más de falsos positivos a medida que crece la profundidad.\n",
        "\n",
        "El F1 score, que balancea precisión y recall, alcanza su mejor valor en profundidad 7, con 0.487.\n",
        "\n",
        "La mejor configuración para max_depth es 7, ya que ofrece el mejor equilibrio entre precisión y recall,\n",
        "reflejado en el F1 más alto. Esto indica que el modelo con profundidad 7 es capaz de identificar\n",
        "una mayor proporción de casos positivos reales sin sacrificar demasiado la precisión.\n",
        "\"\"\"\n",
        "\n",
        "# Usamos la función range para generar las profundidades de 2 en 2, desde 2 hasta 12\n",
        "for max_depth in range(3, 8):\n",
        "  print(f\"Profundidad máxima del árbol: {max_depth}\")\n",
        "  treeM = DecisionTreeClassifier(max_depth=max_depth, random_state=42)\n",
        "  treeM.fit(X, y) # entrenamiento del árbol\n",
        "  cross_validator = cv = RepeatedStratifiedKFold(n_splits=10, n_repeats=3, random_state=1)\n",
        "  classifier = clf = treeM # pasamos el modelo clasificador que se quiere evaluar; en este caso, el modelo de árbol creado anteriormente\n",
        "\n",
        "\n",
        "  # Métricas a evaluar\n",
        "  scoring = ['precision', 'recall', 'f1']\n",
        "\n",
        "  # Evaluación cruzada\n",
        "  resultados = cross_validate(classifier, X, y, scoring=scoring, cv=cv)\n",
        "\n",
        "  for metric in scoring:\n",
        "      valores = resultados[f'test_{metric}']\n",
        "      print(f\"{metric.capitalize():<10}: {valores.mean():.3f} ± {valores.std():.3f}\")\n",
        "  print('='*100)\n",
        "\n"
      ],
      "metadata": {
        "colab": {
          "base_uri": "https://localhost:8080/"
        },
        "id": "kMEXgiOBGp1q",
        "outputId": "654f1136-e10a-461b-ab2f-e26f26aa5769"
      },
      "execution_count": null,
      "outputs": [
        {
          "output_type": "stream",
          "name": "stdout",
          "text": [
            "Profundidad máxima del árbol: 3\n",
            "Precision : 0.648 ± 0.027\n",
            "Recall    : 0.321 ± 0.027\n",
            "F1        : 0.429 ± 0.024\n",
            "====================================================================================================\n",
            "Profundidad máxima del árbol: 4\n",
            "Precision : 0.651 ± 0.029\n",
            "Recall    : 0.331 ± 0.022\n",
            "F1        : 0.438 ± 0.020\n",
            "====================================================================================================\n",
            "Profundidad máxima del árbol: 5\n",
            "Precision : 0.646 ± 0.029\n",
            "Recall    : 0.344 ± 0.025\n",
            "F1        : 0.449 ± 0.024\n",
            "====================================================================================================\n",
            "Profundidad máxima del árbol: 6\n",
            "Precision : 0.622 ± 0.029\n",
            "Recall    : 0.384 ± 0.032\n",
            "F1        : 0.474 ± 0.027\n",
            "====================================================================================================\n",
            "Profundidad máxima del árbol: 7\n",
            "Precision : 0.617 ± 0.025\n",
            "Recall    : 0.403 ± 0.023\n",
            "F1        : 0.487 ± 0.019\n",
            "====================================================================================================\n"
          ]
        }
      ]
    },
    {
      "cell_type": "markdown",
      "source": [
        "(3 puntos) Imprima el árbol con la profundidad que genera el mejor desempeño, explique la estructura del árbol (sobre todo qué significan las hojas) y clasifique alguna muestra del conjunto de datos. Explique la ruta que siguió en el árbol y el resultado obtenido."
      ],
      "metadata": {
        "id": "5G4SEimhSrkU"
      }
    },
    {
      "cell_type": "code",
      "source": [
        "# Graficar el modelo de árbol de decisión con la mejor configuración\n",
        "# Visualizar el árbol\n",
        "tree.plot_tree(treeM, )\n",
        "\n",
        "\n",
        "\"\"\"\n",
        "Cada línea corresponde a un nodo del árbol y tiene este formato:\n",
        "Text(x_pos, y_pos, 'condición o información del nodo')\n",
        "\n",
        "Donde dentro del texto tienes información del nodo como:\n",
        "\n",
        "x[i] <= valor:\n",
        "Condición para dividir en ese nodo; x[i] es la feature i-ésima, y el árbol decide ir a la rama izquierda si la condición se cumple, a la derecha si no.\n",
        "\n",
        "gini = valor:\n",
        "Índice de Gini del nodo, mide qué tan mezcladas están las clases (0 = puro, 0.5 máximo desorden para dos clases).\n",
        "\n",
        "samples = n:\n",
        "Número de muestras que llegan a ese nodo.\n",
        "\n",
        "value = [n_clase0, n_clase1]:\n",
        "Cantidad de ejemplos de cada clase en ese nodo.\n",
        "\n",
        "\"\"\""
      ],
      "metadata": {
        "colab": {
          "base_uri": "https://localhost:8080/",
          "height": 476
        },
        "id": "2PG-Sr0MTqXp",
        "outputId": "91136e6c-b41d-42ba-cc70-861e415a20c1"
      },
      "execution_count": null,
      "outputs": [
        {
          "output_type": "execute_result",
          "data": {
            "text/plain": [
              "\"\\nCada línea corresponde a un nodo del árbol y tiene este formato:\\nText(x_pos, y_pos, 'condición o información del nodo')\\n\\nDonde dentro del texto tienes información del nodo como:\\n\\nx[i] <= valor:\\nCondición para dividir en ese nodo; x[i] es la feature i-ésima, y el árbol decide ir a la rama izquierda si la condición se cumple, a la derecha si no.\\n\\ngini = valor:\\nÍndice de Gini del nodo, mide qué tan mezcladas están las clases (0 = puro, 0.5 máximo desorden para dos clases).\\n\\nsamples = n:\\nNúmero de muestras que llegan a ese nodo.\\n\\nvalue = [n_clase0, n_clase1]:\\nCantidad de ejemplos de cada clase en ese nodo.\\n\\n\""
            ],
            "application/vnd.google.colaboratory.intrinsic+json": {
              "type": "string"
            }
          },
          "metadata": {},
          "execution_count": 68
        },
        {
          "output_type": "display_data",
          "data": {
            "text/plain": [
              "<Figure size 640x480 with 1 Axes>"
            ],
            "image/png": "[encoded data removed]"
          },
          "metadata": {}
        }
      ]
    },
    {
      "cell_type": "code",
      "source": [
        "# Clasifique alguna muestra del conjunto de datos. Explique la ruta que siguió en el árbol y el resultado obtenido.\n",
        "\"\"\"\n",
        "El árbol evalúa cada condición desde la raíz.\n",
        "Para cada nodo, según el valor de la característica, decide ir por la rama izquierda (si cumple la condición) o derecha.\n",
        "Cuando llega a la hoja, asigna la clase mayoritaria de ese nodo.\n",
        "La clase predicha es la que devuelve predict.\n",
        "\"\"\"\n",
        "\n",
        "\n",
        "\n",
        "muestra = X.iloc[0].values.reshape(1, -1) # se toma la primer muestra del conjunto de datos\n",
        "node_indicator = treeM.decision_path(muestra)\n",
        "nodos_recorridos = node_indicator.indices[node_indicator.indptr[0]:node_indicator.indptr[1]]\n",
        "print(\"Nodos recorridos en el árbol:\", nodos_recorridos)\n",
        "\n",
        "feature = treeM.tree_.feature\n",
        "threshold = treeM.tree_.threshold\n",
        "\n",
        "for node_id in nodos_recorridos:\n",
        "    if feature[node_id] != -2:  # -2 significa nodo hoja\n",
        "        f = feature[node_id]\n",
        "        t = threshold[node_id]\n",
        "        val = muestra[0, f]\n",
        "        decision = \"izquierda\" if val <= t else \"derecha\"\n",
        "        print(f\"Nodo {node_id}: x[{f}] <= {t:.3f} (valor muestra: {val:.3f}) --> Rama {decision}\")\n",
        "    else:\n",
        "        print(f\"Nodo {node_id}: Hoja\")\n",
        "prediccion = treeM.predict(muestra)\n",
        "print(\"Clase predicha:\", prediccion[0])\n",
        "\n",
        "\n",
        "\"\"\"\n",
        "Explicacion de resultados:\n",
        "El árbol de decisión clasifica una muestra evaluando secuencialmente condiciones sobre\n",
        "sus características, tomando decisiones en cada nodo para seguir por la rama izquierda o derecha.\n",
        "Este proceso continúa hasta llegar a una hoja, donde se asigna la clase\n",
        "mayoritaria según las muestras que allí llegaron. La clase asignada es la predicción final para esa muestra.\n",
        "\"\"\"\n"
      ],
      "metadata": {
        "colab": {
          "base_uri": "https://localhost:8080/",
          "height": 313
        },
        "id": "DmVN7-6AiK29",
        "outputId": "bea417af-c3c3-4285-f3da-a489cc303dae"
      },
      "execution_count": null,
      "outputs": [
        {
          "output_type": "stream",
          "name": "stdout",
          "text": [
            "Nodos recorridos en el árbol: [ 0  1  2 30 46 47 48 49]\n",
            "Nodo 0: x[43] <= 0.106 (valor muestra: 0.053) --> Rama izquierda\n",
            "Nodo 1: x[50] <= 0.500 (valor muestra: 0.000) --> Rama izquierda\n",
            "Nodo 2: x[43] <= 0.042 (valor muestra: 0.053) --> Rama derecha\n",
            "Nodo 30: x[23] <= 0.500 (valor muestra: 1.000) --> Rama derecha\n",
            "Nodo 46: x[45] <= 0.431 (valor muestra: 0.000) --> Rama izquierda\n",
            "Nodo 47: x[40] <= 0.500 (valor muestra: 0.000) --> Rama izquierda\n",
            "Nodo 48: x[43] <= 0.080 (valor muestra: 0.053) --> Rama izquierda\n",
            "Nodo 49: Hoja\n",
            "Clase predicha: 0\n"
          ]
        },
        {
          "output_type": "stream",
          "name": "stderr",
          "text": [
            "/usr/local/lib/python3.11/dist-packages/sklearn/utils/validation.py:2739: UserWarning: X does not have valid feature names, but DecisionTreeClassifier was fitted with feature names\n",
            "  warnings.warn(\n",
            "/usr/local/lib/python3.11/dist-packages/sklearn/utils/validation.py:2739: UserWarning: X does not have valid feature names, but DecisionTreeClassifier was fitted with feature names\n",
            "  warnings.warn(\n"
          ]
        },
        {
          "output_type": "execute_result",
          "data": {
            "text/plain": [
              "'\\nExplicacion de resultados: \\nEl árbol de decisión clasifica una muestra evaluando secuencialmente condiciones sobre \\nsus características, tomando decisiones en cada nodo para seguir por la rama izquierda o derecha. \\nEste proceso continúa hasta llegar a una hoja, donde se asigna la clase \\nmayoritaria según las muestras que allí llegaron. La clase asignada es la predicción final para esa muestra.\\n'"
            ],
            "application/vnd.google.colaboratory.intrinsic+json": {
              "type": "string"
            }
          },
          "metadata": {},
          "execution_count": 69
        }
      ]
    },
    {
      "cell_type": "markdown",
      "source": [
        "**Random Forest**\n",
        "- j) (2 puntos) Aplique el algoritmo de Random Forest al ejercicio de clasificación.\n",
        "- k) (2 puntos) Utilice validación cruzada para evaluar la precision, el recall y el F1 de los modelos generados.\n",
        "- l) (5 puntos) Realice el ejercicio con al menos 5 cantidades diferentes de estimadores (n_estimators) y recomiende cuál es la mejor configuración para este parámetro con el conjunto de datos seleccionado."
      ],
      "metadata": {
        "id": "sLVQPB-hS2ug"
      }
    },
    {
      "cell_type": "markdown",
      "source": [
        "(2 puntos) Aplique el algoritmo de Random Forest al ejercicio de clasificación."
      ],
      "metadata": {
        "id": "Ibbt1g5DS7_c"
      }
    },
    {
      "cell_type": "code",
      "source": [
        "# Crear el modelo Random Forest\n",
        "rf = RandomForestClassifier(n_estimators=100, max_depth=None, random_state=42)\n",
        "\n",
        "# Entrenar\n",
        "rf.fit(x_train, y_train)\n",
        "\n",
        "# Predecir\n",
        "y_pred = rf.predict(x_test)\n",
        "print(y_pred)"
      ],
      "metadata": {
        "colab": {
          "base_uri": "https://localhost:8080/"
        },
        "id": "lbRsH-AjimIG",
        "outputId": "6c3ac3a3-87ad-4299-a87f-38f776406720"
      },
      "execution_count": null,
      "outputs": [
        {
          "output_type": "stream",
          "name": "stdout",
          "text": [
            "[0. 0. 0. ... 0. 0. 1.]\n"
          ]
        }
      ]
    },
    {
      "cell_type": "markdown",
      "source": [
        "(2 puntos) Utilice validación cruzada para evaluar la precision, el recall y el F1 de los modelos generados."
      ],
      "metadata": {
        "id": "GNkNoDbTTYha"
      }
    },
    {
      "cell_type": "code",
      "source": [
        "# Validación cruzada\n",
        "cross_validator = cv = RepeatedStratifiedKFold(n_splits=10, n_repeats=3, random_state=1)\n",
        "classifier = clf = rf # pasamos el modelo clasificador que se quiere evaluar; en este caso, el modelo de random forest\n",
        "\n",
        "# Métricas a evaluar\n",
        "scoring = ['precision', 'recall', 'f1']\n",
        "\n",
        "# Evaluación cruzada\n",
        "resultados = cross_validate(classifier, X, y, scoring=scoring, cv=cv)\n",
        "\n",
        "for metric in scoring:\n",
        "    valores = resultados[f'test_{metric}']\n",
        "    print(f\"{metric.capitalize():<10}: {valores.mean():.3f} ± {valores.std():.3f}\")"
      ],
      "metadata": {
        "colab": {
          "base_uri": "https://localhost:8080/"
        },
        "id": "6d-QKJpJTBQ2",
        "outputId": "b91a9490-c1a3-41af-ca40-908e0fe49638"
      },
      "execution_count": null,
      "outputs": [
        {
          "output_type": "stream",
          "name": "stdout",
          "text": [
            "Precision : 0.661 ± 0.021\n",
            "Recall    : 0.411 ± 0.020\n",
            "F1        : 0.506 ± 0.017\n"
          ]
        }
      ]
    },
    {
      "cell_type": "markdown",
      "source": [
        " (5 puntos) Realice el ejercicio con al menos 5 cantidades diferentes de estimadores (n_estimators) y recomiende cuál es la mejor configuración para este parámetro con el conjunto de datos seleccionado."
      ],
      "metadata": {
        "id": "1GWfAA5fTdC6"
      }
    },
    {
      "cell_type": "code",
      "source": [
        "# Probando con n-estimators\n",
        "# Valores de n_estimators a probar\n",
        "n_estimators_list = [10, 20, 40, 50, 100]\n",
        "\n",
        "# Validación cruzada\n",
        "cv = RepeatedStratifiedKFold(n_splits=10, n_repeats=3, random_state=1)\n",
        "scoring = ['precision', 'recall', 'f1']\n",
        "\n",
        "mejores_resultados = {}\n",
        "mejor_f1 = 0\n",
        "mejor_n = None\n",
        "\n",
        "for n in n_estimators_list:\n",
        "    print(f\"\\nEvaluando RandomForest con n_estimators={n}\")\n",
        "    rf = RandomForestClassifier(n_estimators=n, max_depth=None, random_state=42)\n",
        "    resultados = cross_validate(rf, X, y, scoring=scoring, cv=cv)\n",
        "\n",
        "    # Calcular medias y desviaciones estándar\n",
        "    precision_mean = resultados['test_precision'].mean()\n",
        "    recall_mean = resultados['test_recall'].mean()\n",
        "    f1_mean = resultados['test_f1'].mean()\n",
        "\n",
        "    print(f\"Precision : {precision_mean:.3f} ± {resultados['test_precision'].std():.3f}\")\n",
        "    print(f\"Recall    : {recall_mean:.3f} ± {resultados['test_recall'].std():.3f}\")\n",
        "    print(f\"F1        : {f1_mean:.3f} ± {resultados['test_f1'].std():.3f}\")\n",
        "\n",
        "    mejores_resultados[n] = f1_mean\n",
        "\n",
        "    # Guardar mejor configuración basada en F1\n",
        "    if f1_mean > mejor_f1:\n",
        "        mejor_f1 = f1_mean\n",
        "        mejor_n = n\n",
        "\n",
        "print(\"\\n=======================================\")\n",
        "print(f\"La mejor configuración es n_estimators = {mejor_n} con F1 = {mejor_f1:.3f}\")"
      ],
      "metadata": {
        "colab": {
          "base_uri": "https://localhost:8080/"
        },
        "id": "EA-LSqcI_SY_",
        "outputId": "610f9140-c1ec-4cc4-8518-d07f7bc0c0bd"
      },
      "execution_count": null,
      "outputs": [
        {
          "output_type": "stream",
          "name": "stdout",
          "text": [
            "\n",
            "Evaluando RandomForest con n_estimators=10\n",
            "Precision : 0.632 ± 0.022\n",
            "Recall    : 0.358 ± 0.022\n",
            "F1        : 0.457 ± 0.021\n",
            "\n",
            "Evaluando RandomForest con n_estimators=50\n",
            "Precision : 0.656 ± 0.022\n",
            "Recall    : 0.403 ± 0.021\n",
            "F1        : 0.499 ± 0.019\n",
            "\n",
            "Evaluando RandomForest con n_estimators=100\n",
            "Precision : 0.661 ± 0.021\n",
            "Recall    : 0.411 ± 0.020\n",
            "F1        : 0.506 ± 0.017\n",
            "\n",
            "Evaluando RandomForest con n_estimators=150\n",
            "Precision : 0.663 ± 0.021\n",
            "Recall    : 0.412 ± 0.019\n",
            "F1        : 0.508 ± 0.016\n",
            "\n",
            "Evaluando RandomForest con n_estimators=200\n",
            "Precision : 0.665 ± 0.020\n",
            "Recall    : 0.415 ± 0.018\n",
            "F1        : 0.511 ± 0.014\n",
            "\n",
            "=======================================\n",
            "La mejor configuración es n_estimators = 200 con F1 = 0.511\n"
          ]
        }
      ]
    },
    {
      "cell_type": "markdown",
      "source": [
        "**Perceptron multicapa con PyTorch**\n",
        "- m) (5) Defina un modelo utilizando una **red profunda de perceptrón multicapa** implementada con PyTorch.\n",
        "- n) (3) Realice el entrenamiento del modelo.\n",
        "- ñ)(1) Evalúe los resultados del modelo por medio de la precision, el recall y el F1 del modelo."
      ],
      "metadata": {
        "id": "l71lnfboUJMI"
      }
    },
    {
      "cell_type": "code",
      "source": [
        "# Perceptron multicapa\n",
        "\"\"\"\n",
        "Se crea una clase para la instanciación de modelos con parámetros\n",
        "de iniciación como el número de neuronas de la capa de entrada, una lista para\n",
        "las neuronas de las capas internas, una función de activación y un dropout que\n",
        "por defecto es cero. Además, al ser modelos de regresión, la capa de salida está conformada por una única neurona.\n",
        "\"\"\"\n",
        "class MLPRegressor(nn.Module):\n",
        "    def __init__(self, input_dim, hidden_dims, activation='relu', dropout=0.0, output_dim=1):\n",
        "        \"\"\"\n",
        "        Parámetros:\n",
        "        - input_dim: Número de características de entrada.\n",
        "        - hidden_dims: Lista con los tamaños de cada capa oculta (ej. [64] o [64, 32, 16]).\n",
        "        - activation: 'relu' o 'tanh'.\n",
        "        - dropout: Valor de dropout (0.0 para desactivado).\n",
        "        - output_dim: Número de salidas (1 para regresión).\n",
        "        \"\"\"\n",
        "        super(MLPRegressor, self).__init__()\n",
        "\n",
        "        # Elegir función de activación\n",
        "        if activation == 'relu':\n",
        "            activation_fn = nn.ReLU\n",
        "        elif activation == 'tanh':\n",
        "            activation_fn = nn.Tanh\n",
        "        else:\n",
        "            raise ValueError(\"Activación no soportada. Usa 'relu' o 'tanh'.\")\n",
        "\n",
        "        layers = []\n",
        "        prev_dim = input_dim\n",
        "\n",
        "        for hidden_dim in hidden_dims:\n",
        "            layers.append(nn.Linear(prev_dim, hidden_dim))\n",
        "            layers.append(activation_fn())\n",
        "            if dropout > 0.0:\n",
        "                layers.append(nn.Dropout(dropout))\n",
        "            prev_dim = hidden_dim\n",
        "\n",
        "        layers.append(nn.Linear(prev_dim, output_dim))\n",
        "        self.model = nn.Sequential(*layers)\n",
        "\n",
        "    def forward(self, x):\n",
        "        return self.model(x).squeeze(-1)"
      ],
      "metadata": {
        "id": "UDUEDDjV__S6"
      },
      "execution_count": null,
      "outputs": []
    },
    {
      "cell_type": "code",
      "source": [
        "class ManageDataset(Dataset):\n",
        "    \"\"\"\n",
        "    Loads and preprocesses a dataset for regression tasks.\n",
        "    This class extends torch.utils.data.Dataset and includes scaling and\n",
        "    functionality for splitting the data into train, validation, and test sets.\n",
        "    \"\"\"\n",
        "\n",
        "    def __init__(self, X, y):\n",
        "        \"\"\"\n",
        "        Initializes the dataset with input features and targets, and applies\n",
        "        MinMax scaling.\n",
        "\n",
        "        Params:\n",
        "            X (np.ndarray): Input features.\n",
        "            y (np.ndarray): Target values.\n",
        "        \"\"\"\n",
        "        self.X = X.astype('float32')\n",
        "        self.y = y.astype('float32')\n",
        "        #self.y = y.astype('float32').reshape((len(y), 1))\n",
        "\n",
        "        self.transformer = MinMaxScaler().fit(self.X)\n",
        "        self.X = self.transformer.transform(self.X)\n",
        "\n",
        "    def __len__(self):\n",
        "        \"\"\"\n",
        "        Returns the number of samples in the dataset.\n",
        "        \"\"\"\n",
        "        return len(self.X)\n",
        "\n",
        "    def __getitem__(self, idx):\n",
        "        \"\"\"\n",
        "        Returns a single sample at the given index.\n",
        "        Returns a tuple: (X[idx], y[idx])\n",
        "        Params:\n",
        "            idx (int): Index of the sample.\n",
        "\n",
        "        \"\"\"\n",
        "        return self.X[idx], self.y[idx]\n",
        "\n",
        "    def get_splits(self, test_ratio=0.2, val_ratio=0.1):\n",
        "        \"\"\"\n",
        "        Splits the dataset into training, validation, and test sets.\n",
        "        Returns a tuple: (train_dataset, val_dataset, test_dataset)\n",
        "        Params:\n",
        "            test_ratio (float): Proportion of the dataset to reserve for testing (default 0.2).\n",
        "            val_ratio (float): Proportion of the dataset to reserve for validation (default 0.1).\n",
        "        \"\"\"\n",
        "        total_size = len(self.X)\n",
        "        test_size = round(test_ratio * total_size)\n",
        "        val_size = round(val_ratio * total_size)\n",
        "        train_size = total_size - test_size - val_size\n",
        "\n",
        "        return random_split(self, [train_size, val_size, test_size])\n",
        "\n",
        "    def scale_data(self, data_lst):\n",
        "        \"\"\"\n",
        "        Applies the same scaling used in training to a new data record. Returns a\n",
        "        np.ndarray with scaled input values.\n",
        "        Params:\n",
        "            data_lst (list or np.ndarray): Raw input feature values.\n",
        "        \"\"\"\n",
        "        data_array = np.array(data_lst).reshape(1, -1)\n",
        "        return self.transformer.transform(data_array)"
      ],
      "metadata": {
        "id": "C5qdacptFRdh"
      },
      "execution_count": null,
      "outputs": []
    },
    {
      "cell_type": "code",
      "source": [
        "def prepare_data(X, y, test_ratio=0.2, val_ratio=0.1, batch_size=32):\n",
        "    \"\"\"\n",
        "    Prepares the dataset and returns DataLoaders for training, validation,\n",
        "    and testing. This function wraps the ManageDataset class and handles\n",
        "    scaling, splitting, and DataLoader creation. Returns DataLoaders train_dl,\n",
        "    val_dl, test_dl and the dataset.\n",
        "    Params:\n",
        "        X (np.ndarray): Input features.\n",
        "        y (np.ndarray): Target values.\n",
        "        test_ratio (float): Proportion of the dataset used for testing. Default is 0.2.\n",
        "        val_ratio (float): Proportion used for validation. Default is 0.1.\n",
        "        batch_size (int): Batch size for the DataLoaders.\n",
        "    \"\"\"\n",
        "    # Initialize and scale dataset\n",
        "    dataset = ManageDataset(X, y)\n",
        "\n",
        "    # Perform splits\n",
        "    train_ds, val_ds, test_ds = dataset.get_splits(test_ratio=test_ratio, val_ratio=val_ratio)\n",
        "\n",
        "    # Create DataLoaders\n",
        "    train_dl = DataLoader(train_ds, batch_size=batch_size, shuffle=True)\n",
        "    val_dl = DataLoader(val_ds, batch_size=batch_size, shuffle=False)\n",
        "    test_dl = DataLoader(test_ds, batch_size=batch_size, shuffle=False)\n",
        "\n",
        "    return train_dl, val_dl, test_dl, dataset\n",
        "\n",
        "\n",
        "\n",
        "\n",
        "def train_model(train_dl, model, epochs=100, lr=0.01, verbose=True):\n",
        "    \"\"\"\n",
        "    Trains a PyTorch regression model using a provided DataLoader. Returns the\n",
        "    trained model.\n",
        "    Parameters:\n",
        "        train_dl: The DataLoader containing the training data.\n",
        "        model: The neural network model to train.\n",
        "        epochs: Number of training epochs. Default is 100.\n",
        "        lr: Learning rate for the optimizer. Default is 0.01.\n",
        "        verbose: If True, prints loss every 10 epochs.\n",
        "    \"\"\"\n",
        "    # Mean Squared Error (MSE) loss function\n",
        "    criterion = nn.MSELoss()\n",
        "\n",
        "    # optimizer Stochastic Gradient Descent\n",
        "    # Momentum: Momentum adds a fraction of the previous gradient\n",
        "    # to the current gradient during weight updates.\n",
        "    optimizer = optim.SGD(model.parameters(), lr=lr, momentum=0.9)\n",
        "\n",
        "    for epoch in range(epochs):\n",
        "        model.train()\n",
        "        epoch_loss = 0.0\n",
        "\n",
        "        for inputs, targets in train_dl:\n",
        "            # Ensure float32 tensors\n",
        "            inputs = inputs.float()\n",
        "            targets = targets.float()\n",
        "\n",
        "            # Zero gradients, forward pass, loss computation, backward pass, update\n",
        "            optimizer.zero_grad()\n",
        "            outputs = model(inputs)\n",
        "            loss = criterion(outputs, targets)\n",
        "            loss.backward()\n",
        "            optimizer.step()\n",
        "\n",
        "            epoch_loss += loss.item()\n",
        "\n",
        "        if verbose and epoch % 10 == 0:\n",
        "            avg_loss = epoch_loss / len(train_dl)\n",
        "            print(f\"Epoch {epoch:3d} | Loss: {avg_loss:.4f}\")\n",
        "\n",
        "    return model"
      ],
      "metadata": {
        "id": "1vrJXrJhCTTK"
      },
      "execution_count": null,
      "outputs": []
    },
    {
      "cell_type": "code",
      "source": [
        "def count_parameters(model):\n",
        "    \"\"\"\n",
        "    Display in a table the model parameters. The model must be a PyTorch DNN model.\n",
        "    :param: row, data that will be used for prediction.\n",
        "    :param: model, the model to apply to the data.\n",
        "    \"\"\"\n",
        "    table = PrettyTable([\"Mod name\", \"Parameters Listed\"])\n",
        "    t_params = 0\n",
        "    for name, parameter in model.named_parameters():\n",
        "        if not parameter.requires_grad: continue\n",
        "        param = parameter.numel()\n",
        "        table.add_row([name, param])\n",
        "        t_params+=param\n",
        "    print(table)\n",
        "    print(f\"Sum of trained paramters: {t_params}\")\n",
        "    return t_params"
      ],
      "metadata": {
        "id": "IXCV3gWpCYDZ"
      },
      "execution_count": null,
      "outputs": []
    },
    {
      "cell_type": "code",
      "source": [
        "# obtener número de features\n",
        "features_num = X.shape[1]\n",
        "\n",
        "# Arquitectura: MLP más profundo con relu (3 capas ocultas + Dropout)\n",
        "mlp_model = MLPRegressor(input_dim=features_num, hidden_dims=[128, 64, 32], activation='relu', dropout=0.2)"
      ],
      "metadata": {
        "id": "29EcBnTVCr2C"
      },
      "execution_count": null,
      "outputs": []
    },
    {
      "cell_type": "code",
      "source": [
        "# training de MLP\n",
        "\n",
        "# train, test and validation split\n",
        "train_dl, test_dl, val_dl, dataset = prepare_data(X, y)\n",
        "\n",
        "print(\"Cantidad de datos de entrenamiento y prueba\", len(train_dl.dataset), len(test_dl.dataset))\n",
        "count_parameters(mlp_model)\n",
        "train_model(train_dl, mlp_model, epochs=100, lr=0.01)\n",
        "print(\"=\"*100)"
      ],
      "metadata": {
        "colab": {
          "base_uri": "https://localhost:8080/"
        },
        "id": "BzerHnUiFadZ",
        "outputId": "6936079d-91c4-4f29-f198-e5d66bd1160e"
      },
      "execution_count": null,
      "outputs": [
        {
          "output_type": "stream",
          "name": "stdout",
          "text": [
            "Cantidad de datos de entrenamiento y prueba 31648 4521\n",
            "+----------------+-------------------+\n",
            "|    Mod name    | Parameters Listed |\n",
            "+----------------+-------------------+\n",
            "| model.0.weight |        6528       |\n",
            "|  model.0.bias  |        128        |\n",
            "| model.3.weight |        8192       |\n",
            "|  model.3.bias  |         64        |\n",
            "| model.6.weight |        2048       |\n",
            "|  model.6.bias  |         32        |\n",
            "| model.9.weight |         32        |\n",
            "|  model.9.bias  |         1         |\n",
            "+----------------+-------------------+\n",
            "Sum of trained paramters: 17025\n",
            "Epoch   0 | Loss: 0.0985\n",
            "Epoch  10 | Loss: 0.0713\n",
            "Epoch  20 | Loss: 0.0676\n",
            "Epoch  30 | Loss: 0.0652\n",
            "Epoch  40 | Loss: 0.0639\n",
            "Epoch  50 | Loss: 0.0618\n",
            "Epoch  60 | Loss: 0.0610\n",
            "Epoch  70 | Loss: 0.0592\n",
            "Epoch  80 | Loss: 0.0583\n",
            "Epoch  90 | Loss: 0.0574\n",
            "====================================================================================================\n"
          ]
        }
      ]
    },
    {
      "cell_type": "code",
      "source": [
        "def reset_weights(m):\n",
        "    \"\"\"Reinicia pesos de capas Linear.\"\"\"\n",
        "    if isinstance(m, torch.nn.Linear):\n",
        "        m.reset_parameters()\n",
        "\n",
        "# Configuración de validación cruzada\n",
        "cv = RepeatedStratifiedKFold(n_splits=10, n_repeats=3, random_state=1)\n",
        "\n",
        "precision_scores = []\n",
        "recall_scores = []\n",
        "f1_scores = []\n",
        "\n",
        "\n",
        "x_np = X.values if hasattr(X, \"values\") else np.array(X)\n",
        "y_np = y.values if hasattr(y, \"values\") else np.array(y)\n",
        "\n",
        "for train_idx, test_idx in cv.split(X, y):\n",
        "    # Crear tensores para train/test\n",
        "    x_train = torch.tensor(x_np[train_idx], dtype=torch.float32)\n",
        "    y_train = torch.tensor(y_np[train_idx], dtype=torch.float32)\n",
        "    x_test = torch.tensor(x_np[test_idx], dtype=torch.float32)\n",
        "    y_test = torch.tensor(y_np[test_idx], dtype=torch.float32)\n",
        "\n",
        "    # Crear el modelo con tu arquitectura\n",
        "    model = MLPRegressor(input_dim=features_num, hidden_dims=[64, 32, 15], activation='relu', dropout=0.2)\n",
        "\n",
        "    # DataLoader\n",
        "    train_dl = torch.utils.data.DataLoader(torch.utils.data.TensorDataset(x_train, y_train), batch_size=32, shuffle=True)\n",
        "\n",
        "    # Entrenar\n",
        "    train_model(train_dl, model, epochs=30, lr=0.01, verbose=False)\n",
        "\n",
        "    # Predecir\n",
        "    model.eval()\n",
        "    with torch.no_grad():\n",
        "        y_pred_prob = model(x_test)\n",
        "        y_pred = (y_pred_prob > 0.5).int()\n",
        "\n",
        "    # Calcular métricas\n",
        "    precision_scores.append(precision_score(y_test, y_pred))\n",
        "    recall_scores.append(recall_score(y_test, y_pred))\n",
        "    f1_scores.append(f1_score(y_test, y_pred))\n",
        "\n",
        "# Mostrar resultados\n",
        "print(f\"Precision: {np.mean(precision_scores):.3f} ± {np.std(precision_scores):.3f}\")\n",
        "print(f\"Recall:    {np.mean(recall_scores):.3f} ± {np.std(recall_scores):.3f}\")\n",
        "print(f\"F1:        {np.mean(f1_scores):.3f} ± {np.std(f1_scores):.3f}\")"
      ],
      "metadata": {
        "colab": {
          "base_uri": "https://localhost:8080/",
          "height": 356
        },
        "id": "jg7nBGPfGX2a",
        "outputId": "25882548-032e-4be6-c292-416c1ba475cb"
      },
      "execution_count": null,
      "outputs": [
        {
          "output_type": "error",
          "ename": "KeyboardInterrupt",
          "evalue": "",
          "traceback": [
            "\u001b[0;31m---------------------------------------------------------------------------\u001b[0m",
            "\u001b[0;31mKeyboardInterrupt\u001b[0m                         Traceback (most recent call last)",
            "\u001b[0;32m/tmp/ipython-input-4109668518.py\u001b[0m in \u001b[0;36m<cell line: 0>\u001b[0;34m()\u001b[0m\n\u001b[1;32m     29\u001b[0m \u001b[0;34m\u001b[0m\u001b[0m\n\u001b[1;32m     30\u001b[0m     \u001b[0;31m# Entrenar\u001b[0m\u001b[0;34m\u001b[0m\u001b[0;34m\u001b[0m\u001b[0m\n\u001b[0;32m---> 31\u001b[0;31m     \u001b[0mtrain_model\u001b[0m\u001b[0;34m(\u001b[0m\u001b[0mtrain_dl\u001b[0m\u001b[0;34m,\u001b[0m \u001b[0mmodel\u001b[0m\u001b[0;34m,\u001b[0m \u001b[0mepochs\u001b[0m\u001b[0;34m=\u001b[0m\u001b[0;36m30\u001b[0m\u001b[0;34m,\u001b[0m \u001b[0mlr\u001b[0m\u001b[0;34m=\u001b[0m\u001b[0;36m0.01\u001b[0m\u001b[0;34m,\u001b[0m \u001b[0mverbose\u001b[0m\u001b[0;34m=\u001b[0m\u001b[0;32mFalse\u001b[0m\u001b[0;34m)\u001b[0m\u001b[0;34m\u001b[0m\u001b[0;34m\u001b[0m\u001b[0m\n\u001b[0m\u001b[1;32m     32\u001b[0m \u001b[0;34m\u001b[0m\u001b[0m\n\u001b[1;32m     33\u001b[0m     \u001b[0;31m# Predecir\u001b[0m\u001b[0;34m\u001b[0m\u001b[0;34m\u001b[0m\u001b[0m\n",
            "\u001b[0;32m/tmp/ipython-input-3517915116.py\u001b[0m in \u001b[0;36mtrain_model\u001b[0;34m(train_dl, model, epochs, lr, verbose)\u001b[0m\n\u001b[1;32m     58\u001b[0m             \u001b[0;31m# Zero gradients, forward pass, loss computation, backward pass, update\u001b[0m\u001b[0;34m\u001b[0m\u001b[0;34m\u001b[0m\u001b[0m\n\u001b[1;32m     59\u001b[0m             \u001b[0moptimizer\u001b[0m\u001b[0;34m.\u001b[0m\u001b[0mzero_grad\u001b[0m\u001b[0;34m(\u001b[0m\u001b[0;34m)\u001b[0m\u001b[0;34m\u001b[0m\u001b[0;34m\u001b[0m\u001b[0m\n\u001b[0;32m---> 60\u001b[0;31m             \u001b[0moutputs\u001b[0m \u001b[0;34m=\u001b[0m \u001b[0mmodel\u001b[0m\u001b[0;34m(\u001b[0m\u001b[0minputs\u001b[0m\u001b[0;34m)\u001b[0m\u001b[0;34m\u001b[0m\u001b[0;34m\u001b[0m\u001b[0m\n\u001b[0m\u001b[1;32m     61\u001b[0m             \u001b[0mloss\u001b[0m \u001b[0;34m=\u001b[0m \u001b[0mcriterion\u001b[0m\u001b[0;34m(\u001b[0m\u001b[0moutputs\u001b[0m\u001b[0;34m,\u001b[0m \u001b[0mtargets\u001b[0m\u001b[0;34m)\u001b[0m\u001b[0;34m\u001b[0m\u001b[0;34m\u001b[0m\u001b[0m\n\u001b[1;32m     62\u001b[0m             \u001b[0mloss\u001b[0m\u001b[0;34m.\u001b[0m\u001b[0mbackward\u001b[0m\u001b[0;34m(\u001b[0m\u001b[0;34m)\u001b[0m\u001b[0;34m\u001b[0m\u001b[0;34m\u001b[0m\u001b[0m\n",
            "\u001b[0;32m/usr/local/lib/python3.11/dist-packages/torch/nn/modules/module.py\u001b[0m in \u001b[0;36m_wrapped_call_impl\u001b[0;34m(self, *args, **kwargs)\u001b[0m\n\u001b[1;32m   1737\u001b[0m             \u001b[0;32mreturn\u001b[0m \u001b[0mself\u001b[0m\u001b[0;34m.\u001b[0m\u001b[0m_compiled_call_impl\u001b[0m\u001b[0;34m(\u001b[0m\u001b[0;34m*\u001b[0m\u001b[0margs\u001b[0m\u001b[0;34m,\u001b[0m \u001b[0;34m**\u001b[0m\u001b[0mkwargs\u001b[0m\u001b[0;34m)\u001b[0m  \u001b[0;31m# type: ignore[misc]\u001b[0m\u001b[0;34m\u001b[0m\u001b[0;34m\u001b[0m\u001b[0m\n\u001b[1;32m   1738\u001b[0m         \u001b[0;32melse\u001b[0m\u001b[0;34m:\u001b[0m\u001b[0;34m\u001b[0m\u001b[0;34m\u001b[0m\u001b[0m\n\u001b[0;32m-> 1739\u001b[0;31m             \u001b[0;32mreturn\u001b[0m \u001b[0mself\u001b[0m\u001b[0;34m.\u001b[0m\u001b[0m_call_impl\u001b[0m\u001b[0;34m(\u001b[0m\u001b[0;34m*\u001b[0m\u001b[0margs\u001b[0m\u001b[0;34m,\u001b[0m \u001b[0;34m**\u001b[0m\u001b[0mkwargs\u001b[0m\u001b[0;34m)\u001b[0m\u001b[0;34m\u001b[0m\u001b[0;34m\u001b[0m\u001b[0m\n\u001b[0m\u001b[1;32m   1740\u001b[0m \u001b[0;34m\u001b[0m\u001b[0m\n\u001b[1;32m   1741\u001b[0m     \u001b[0;31m# torchrec tests the code consistency with the following code\u001b[0m\u001b[0;34m\u001b[0m\u001b[0;34m\u001b[0m\u001b[0m\n",
            "\u001b[0;32m/usr/local/lib/python3.11/dist-packages/torch/nn/modules/module.py\u001b[0m in \u001b[0;36m_call_impl\u001b[0;34m(self, *args, **kwargs)\u001b[0m\n\u001b[1;32m   1748\u001b[0m                 \u001b[0;32mor\u001b[0m \u001b[0m_global_backward_pre_hooks\u001b[0m \u001b[0;32mor\u001b[0m \u001b[0m_global_backward_hooks\u001b[0m\u001b[0;34m\u001b[0m\u001b[0;34m\u001b[0m\u001b[0m\n\u001b[1;32m   1749\u001b[0m                 or _global_forward_hooks or _global_forward_pre_hooks):\n\u001b[0;32m-> 1750\u001b[0;31m             \u001b[0;32mreturn\u001b[0m \u001b[0mforward_call\u001b[0m\u001b[0;34m(\u001b[0m\u001b[0;34m*\u001b[0m\u001b[0margs\u001b[0m\u001b[0;34m,\u001b[0m \u001b[0;34m**\u001b[0m\u001b[0mkwargs\u001b[0m\u001b[0;34m)\u001b[0m\u001b[0;34m\u001b[0m\u001b[0;34m\u001b[0m\u001b[0m\n\u001b[0m\u001b[1;32m   1751\u001b[0m \u001b[0;34m\u001b[0m\u001b[0m\n\u001b[1;32m   1752\u001b[0m         \u001b[0mresult\u001b[0m \u001b[0;34m=\u001b[0m \u001b[0;32mNone\u001b[0m\u001b[0;34m\u001b[0m\u001b[0;34m\u001b[0m\u001b[0m\n",
            "\u001b[0;32m/tmp/ipython-input-1977213839.py\u001b[0m in \u001b[0;36mforward\u001b[0;34m(self, x)\u001b[0m\n\u001b[1;32m     34\u001b[0m \u001b[0;34m\u001b[0m\u001b[0m\n\u001b[1;32m     35\u001b[0m     \u001b[0;32mdef\u001b[0m \u001b[0mforward\u001b[0m\u001b[0;34m(\u001b[0m\u001b[0mself\u001b[0m\u001b[0;34m,\u001b[0m \u001b[0mx\u001b[0m\u001b[0;34m)\u001b[0m\u001b[0;34m:\u001b[0m\u001b[0;34m\u001b[0m\u001b[0;34m\u001b[0m\u001b[0m\n\u001b[0;32m---> 36\u001b[0;31m         \u001b[0;32mreturn\u001b[0m \u001b[0mself\u001b[0m\u001b[0;34m.\u001b[0m\u001b[0mmodel\u001b[0m\u001b[0;34m(\u001b[0m\u001b[0mx\u001b[0m\u001b[0;34m)\u001b[0m\u001b[0;34m.\u001b[0m\u001b[0msqueeze\u001b[0m\u001b[0;34m(\u001b[0m\u001b[0;34m-\u001b[0m\u001b[0;36m1\u001b[0m\u001b[0;34m)\u001b[0m\u001b[0;34m\u001b[0m\u001b[0;34m\u001b[0m\u001b[0m\n\u001b[0m",
            "\u001b[0;32m/usr/local/lib/python3.11/dist-packages/torch/nn/modules/module.py\u001b[0m in \u001b[0;36m_wrapped_call_impl\u001b[0;34m(self, *args, **kwargs)\u001b[0m\n\u001b[1;32m   1737\u001b[0m             \u001b[0;32mreturn\u001b[0m \u001b[0mself\u001b[0m\u001b[0;34m.\u001b[0m\u001b[0m_compiled_call_impl\u001b[0m\u001b[0;34m(\u001b[0m\u001b[0;34m*\u001b[0m\u001b[0margs\u001b[0m\u001b[0;34m,\u001b[0m \u001b[0;34m**\u001b[0m\u001b[0mkwargs\u001b[0m\u001b[0;34m)\u001b[0m  \u001b[0;31m# type: ignore[misc]\u001b[0m\u001b[0;34m\u001b[0m\u001b[0;34m\u001b[0m\u001b[0m\n\u001b[1;32m   1738\u001b[0m         \u001b[0;32melse\u001b[0m\u001b[0;34m:\u001b[0m\u001b[0;34m\u001b[0m\u001b[0;34m\u001b[0m\u001b[0m\n\u001b[0;32m-> 1739\u001b[0;31m             \u001b[0;32mreturn\u001b[0m \u001b[0mself\u001b[0m\u001b[0;34m.\u001b[0m\u001b[0m_call_impl\u001b[0m\u001b[0;34m(\u001b[0m\u001b[0;34m*\u001b[0m\u001b[0margs\u001b[0m\u001b[0;34m,\u001b[0m \u001b[0;34m**\u001b[0m\u001b[0mkwargs\u001b[0m\u001b[0;34m)\u001b[0m\u001b[0;34m\u001b[0m\u001b[0;34m\u001b[0m\u001b[0m\n\u001b[0m\u001b[1;32m   1740\u001b[0m \u001b[0;34m\u001b[0m\u001b[0m\n\u001b[1;32m   1741\u001b[0m     \u001b[0;31m# torchrec tests the code consistency with the following code\u001b[0m\u001b[0;34m\u001b[0m\u001b[0;34m\u001b[0m\u001b[0m\n",
            "\u001b[0;32m/usr/local/lib/python3.11/dist-packages/torch/nn/modules/module.py\u001b[0m in \u001b[0;36m_call_impl\u001b[0;34m(self, *args, **kwargs)\u001b[0m\n\u001b[1;32m   1748\u001b[0m                 \u001b[0;32mor\u001b[0m \u001b[0m_global_backward_pre_hooks\u001b[0m \u001b[0;32mor\u001b[0m \u001b[0m_global_backward_hooks\u001b[0m\u001b[0;34m\u001b[0m\u001b[0;34m\u001b[0m\u001b[0m\n\u001b[1;32m   1749\u001b[0m                 or _global_forward_hooks or _global_forward_pre_hooks):\n\u001b[0;32m-> 1750\u001b[0;31m             \u001b[0;32mreturn\u001b[0m \u001b[0mforward_call\u001b[0m\u001b[0;34m(\u001b[0m\u001b[0;34m*\u001b[0m\u001b[0margs\u001b[0m\u001b[0;34m,\u001b[0m \u001b[0;34m**\u001b[0m\u001b[0mkwargs\u001b[0m\u001b[0;34m)\u001b[0m\u001b[0;34m\u001b[0m\u001b[0;34m\u001b[0m\u001b[0m\n\u001b[0m\u001b[1;32m   1751\u001b[0m \u001b[0;34m\u001b[0m\u001b[0m\n\u001b[1;32m   1752\u001b[0m         \u001b[0mresult\u001b[0m \u001b[0;34m=\u001b[0m \u001b[0;32mNone\u001b[0m\u001b[0;34m\u001b[0m\u001b[0;34m\u001b[0m\u001b[0m\n",
            "\u001b[0;32m/usr/local/lib/python3.11/dist-packages/torch/nn/modules/container.py\u001b[0m in \u001b[0;36mforward\u001b[0;34m(self, input)\u001b[0m\n\u001b[1;32m    248\u001b[0m     \u001b[0;32mdef\u001b[0m \u001b[0mforward\u001b[0m\u001b[0;34m(\u001b[0m\u001b[0mself\u001b[0m\u001b[0;34m,\u001b[0m \u001b[0minput\u001b[0m\u001b[0;34m)\u001b[0m\u001b[0;34m:\u001b[0m\u001b[0;34m\u001b[0m\u001b[0;34m\u001b[0m\u001b[0m\n\u001b[1;32m    249\u001b[0m         \u001b[0;32mfor\u001b[0m \u001b[0mmodule\u001b[0m \u001b[0;32min\u001b[0m \u001b[0mself\u001b[0m\u001b[0;34m:\u001b[0m\u001b[0;34m\u001b[0m\u001b[0;34m\u001b[0m\u001b[0m\n\u001b[0;32m--> 250\u001b[0;31m             \u001b[0minput\u001b[0m \u001b[0;34m=\u001b[0m \u001b[0mmodule\u001b[0m\u001b[0;34m(\u001b[0m\u001b[0minput\u001b[0m\u001b[0;34m)\u001b[0m\u001b[0;34m\u001b[0m\u001b[0;34m\u001b[0m\u001b[0m\n\u001b[0m\u001b[1;32m    251\u001b[0m         \u001b[0;32mreturn\u001b[0m \u001b[0minput\u001b[0m\u001b[0;34m\u001b[0m\u001b[0;34m\u001b[0m\u001b[0m\n\u001b[1;32m    252\u001b[0m \u001b[0;34m\u001b[0m\u001b[0m\n",
            "\u001b[0;32m/usr/local/lib/python3.11/dist-packages/torch/nn/modules/module.py\u001b[0m in \u001b[0;36m_wrapped_call_impl\u001b[0;34m(self, *args, **kwargs)\u001b[0m\n\u001b[1;32m   1737\u001b[0m             \u001b[0;32mreturn\u001b[0m \u001b[0mself\u001b[0m\u001b[0;34m.\u001b[0m\u001b[0m_compiled_call_impl\u001b[0m\u001b[0;34m(\u001b[0m\u001b[0;34m*\u001b[0m\u001b[0margs\u001b[0m\u001b[0;34m,\u001b[0m \u001b[0;34m**\u001b[0m\u001b[0mkwargs\u001b[0m\u001b[0;34m)\u001b[0m  \u001b[0;31m# type: ignore[misc]\u001b[0m\u001b[0;34m\u001b[0m\u001b[0;34m\u001b[0m\u001b[0m\n\u001b[1;32m   1738\u001b[0m         \u001b[0;32melse\u001b[0m\u001b[0;34m:\u001b[0m\u001b[0;34m\u001b[0m\u001b[0;34m\u001b[0m\u001b[0m\n\u001b[0;32m-> 1739\u001b[0;31m             \u001b[0;32mreturn\u001b[0m \u001b[0mself\u001b[0m\u001b[0;34m.\u001b[0m\u001b[0m_call_impl\u001b[0m\u001b[0;34m(\u001b[0m\u001b[0;34m*\u001b[0m\u001b[0margs\u001b[0m\u001b[0;34m,\u001b[0m \u001b[0;34m**\u001b[0m\u001b[0mkwargs\u001b[0m\u001b[0;34m)\u001b[0m\u001b[0;34m\u001b[0m\u001b[0;34m\u001b[0m\u001b[0m\n\u001b[0m\u001b[1;32m   1740\u001b[0m \u001b[0;34m\u001b[0m\u001b[0m\n\u001b[1;32m   1741\u001b[0m     \u001b[0;31m# torchrec tests the code consistency with the following code\u001b[0m\u001b[0;34m\u001b[0m\u001b[0;34m\u001b[0m\u001b[0m\n",
            "\u001b[0;32m/usr/local/lib/python3.11/dist-packages/torch/nn/modules/module.py\u001b[0m in \u001b[0;36m_call_impl\u001b[0;34m(self, *args, **kwargs)\u001b[0m\n\u001b[1;32m   1748\u001b[0m                 \u001b[0;32mor\u001b[0m \u001b[0m_global_backward_pre_hooks\u001b[0m \u001b[0;32mor\u001b[0m \u001b[0m_global_backward_hooks\u001b[0m\u001b[0;34m\u001b[0m\u001b[0;34m\u001b[0m\u001b[0m\n\u001b[1;32m   1749\u001b[0m                 or _global_forward_hooks or _global_forward_pre_hooks):\n\u001b[0;32m-> 1750\u001b[0;31m             \u001b[0;32mreturn\u001b[0m \u001b[0mforward_call\u001b[0m\u001b[0;34m(\u001b[0m\u001b[0;34m*\u001b[0m\u001b[0margs\u001b[0m\u001b[0;34m,\u001b[0m \u001b[0;34m**\u001b[0m\u001b[0mkwargs\u001b[0m\u001b[0;34m)\u001b[0m\u001b[0;34m\u001b[0m\u001b[0;34m\u001b[0m\u001b[0m\n\u001b[0m\u001b[1;32m   1751\u001b[0m \u001b[0;34m\u001b[0m\u001b[0m\n\u001b[1;32m   1752\u001b[0m         \u001b[0mresult\u001b[0m \u001b[0;34m=\u001b[0m \u001b[0;32mNone\u001b[0m\u001b[0;34m\u001b[0m\u001b[0;34m\u001b[0m\u001b[0m\n",
            "\u001b[0;32m/usr/local/lib/python3.11/dist-packages/torch/nn/modules/dropout.py\u001b[0m in \u001b[0;36mforward\u001b[0;34m(self, input)\u001b[0m\n\u001b[1;32m     68\u001b[0m \u001b[0;34m\u001b[0m\u001b[0m\n\u001b[1;32m     69\u001b[0m     \u001b[0;32mdef\u001b[0m \u001b[0mforward\u001b[0m\u001b[0;34m(\u001b[0m\u001b[0mself\u001b[0m\u001b[0;34m,\u001b[0m \u001b[0minput\u001b[0m\u001b[0;34m:\u001b[0m \u001b[0mTensor\u001b[0m\u001b[0;34m)\u001b[0m \u001b[0;34m->\u001b[0m \u001b[0mTensor\u001b[0m\u001b[0;34m:\u001b[0m\u001b[0;34m\u001b[0m\u001b[0;34m\u001b[0m\u001b[0m\n\u001b[0;32m---> 70\u001b[0;31m         \u001b[0;32mreturn\u001b[0m \u001b[0mF\u001b[0m\u001b[0;34m.\u001b[0m\u001b[0mdropout\u001b[0m\u001b[0;34m(\u001b[0m\u001b[0minput\u001b[0m\u001b[0;34m,\u001b[0m \u001b[0mself\u001b[0m\u001b[0;34m.\u001b[0m\u001b[0mp\u001b[0m\u001b[0;34m,\u001b[0m \u001b[0mself\u001b[0m\u001b[0;34m.\u001b[0m\u001b[0mtraining\u001b[0m\u001b[0;34m,\u001b[0m \u001b[0mself\u001b[0m\u001b[0;34m.\u001b[0m\u001b[0minplace\u001b[0m\u001b[0;34m)\u001b[0m\u001b[0;34m\u001b[0m\u001b[0;34m\u001b[0m\u001b[0m\n\u001b[0m\u001b[1;32m     71\u001b[0m \u001b[0;34m\u001b[0m\u001b[0m\n\u001b[1;32m     72\u001b[0m \u001b[0;34m\u001b[0m\u001b[0m\n",
            "\u001b[0;32m/usr/local/lib/python3.11/dist-packages/torch/nn/functional.py\u001b[0m in \u001b[0;36mdropout\u001b[0;34m(input, p, training, inplace)\u001b[0m\n\u001b[1;32m   1423\u001b[0m         \u001b[0;32mraise\u001b[0m \u001b[0mValueError\u001b[0m\u001b[0;34m(\u001b[0m\u001b[0;34mf\"dropout probability has to be between 0 and 1, but got {p}\"\u001b[0m\u001b[0;34m)\u001b[0m\u001b[0;34m\u001b[0m\u001b[0;34m\u001b[0m\u001b[0m\n\u001b[1;32m   1424\u001b[0m     return (\n\u001b[0;32m-> 1425\u001b[0;31m         \u001b[0m_VF\u001b[0m\u001b[0;34m.\u001b[0m\u001b[0mdropout_\u001b[0m\u001b[0;34m(\u001b[0m\u001b[0minput\u001b[0m\u001b[0;34m,\u001b[0m \u001b[0mp\u001b[0m\u001b[0;34m,\u001b[0m \u001b[0mtraining\u001b[0m\u001b[0;34m)\u001b[0m \u001b[0;32mif\u001b[0m \u001b[0minplace\u001b[0m \u001b[0;32melse\u001b[0m \u001b[0m_VF\u001b[0m\u001b[0;34m.\u001b[0m\u001b[0mdropout\u001b[0m\u001b[0;34m(\u001b[0m\u001b[0minput\u001b[0m\u001b[0;34m,\u001b[0m \u001b[0mp\u001b[0m\u001b[0;34m,\u001b[0m \u001b[0mtraining\u001b[0m\u001b[0;34m)\u001b[0m\u001b[0;34m\u001b[0m\u001b[0;34m\u001b[0m\u001b[0m\n\u001b[0m\u001b[1;32m   1426\u001b[0m     )\n\u001b[1;32m   1427\u001b[0m \u001b[0;34m\u001b[0m\u001b[0m\n",
            "\u001b[0;31mKeyboardInterrupt\u001b[0m: "
          ]
        }
      ]
    },
    {
      "cell_type": "markdown",
      "source": [
        "**4. Balanceo de clases**\n",
        "- o) (2 puntos) Realice un balanceo de las clases con al menos dos de los algoritmos vistos en clase.\n",
        "- p) (2 puntos) Verifique si el perceptrón multicapa mejora el resultado con los conjuntos de datos balanceados.\n"
      ],
      "metadata": {
        "id": "GGq3mbMXUVbu"
      }
    },
    {
      "cell_type": "code",
      "source": [
        "# Balanceo de clases usando undersampling\n",
        "from imblearn.under_sampling import RandomUnderSampler\n",
        "import numpy as np\n",
        "\n",
        "# Convertir a numpy si no lo está\n",
        "X_np = X.values if hasattr(X, \"values\") else np.array(X)\n",
        "y_np = y.values if hasattr(y, \"values\") else np.array(y)\n",
        "\n",
        "# Crear objeto undersampler\n",
        "rus = RandomUnderSampler(random_state=42)\n",
        "\n",
        "# Aplicar undersampling\n",
        "X_resampled, y_resampled = rus.fit_resample(X_np, y_np)\n",
        "\n",
        "print(\"Antes del undersampling:\", np.bincount(y_np))\n",
        "print(\"Después del undersampling:\", np.bincount(y_resampled))\n",
        "\n",
        "# Ahora puedes usar X_resampled y y_resampled para crear tensores y DataLoader\n",
        "\n",
        "import torch\n",
        "\n",
        "X_tensor = torch.tensor(X_resampled, dtype=torch.float32)\n",
        "y_tensor = torch.tensor(y_resampled, dtype=torch.float32)\n",
        "\n",
        "# Crear DataLoader para PyTorch\n",
        "from torch.utils.data import TensorDataset, DataLoader\n",
        "\n",
        "dataset = TensorDataset(X_tensor, y_tensor)\n",
        "train_dl = DataLoader(dataset, batch_size=32, shuffle=True)\n",
        "\n",
        "# Ahora puedes entrenar tu modelo usando train_dl\n"
      ],
      "metadata": {
        "colab": {
          "base_uri": "https://localhost:8080/"
        },
        "id": "lFufgxacGrz7",
        "outputId": "bb907614-546c-4a40-a499-a74602766d6f"
      },
      "execution_count": null,
      "outputs": [
        {
          "output_type": "stream",
          "name": "stdout",
          "text": [
            "Antes del undersampling: [39922  5289]\n",
            "Después del undersampling: [5289 5289]\n"
          ]
        }
      ]
    },
    {
      "cell_type": "markdown",
      "source": [
        "**3. Análisis comparativo de resultados**\n",
        "\n",
        "- q) (2 puntos) Cree de forma automática (por medio de una función) una tabla con todos los resultados.\n",
        "\n",
        "- r) (2 puntos) Genere al menos cuatro conclusiones al respecto de los resultados del ejercicio (incluya comparaciones de resultados entre modelos)."
      ],
      "metadata": {
        "id": "1LkaKymvU8Eo"
      }
    },
    {
      "cell_type": "markdown",
      "source": [
        "Conclusiones generales sobre los modelos evaluados en el dataset bank-full:\n",
        "\n",
        "1. Random Forest muestra un desempeño robusto y consistente:\n",
        "Este modelo combina varios árboles y reduce el sobreajuste, logrando mejores métricas promedio (precisión, recall, F1) y menor variabilidad en validación cruzada, siendo una buena opción para este dataset.\n",
        "\n",
        "2. Incrementar la profundidad del árbol mejora el recall pero puede reducir la precisión:\n",
        "Al aumentar la profundidad máxima en árboles de decisión simples, el modelo captura más verdaderos positivos (mayor recall), pero también puede aumentar falsos positivos, lo que disminuye la precisión, evidenciando un trade-off clásico.\n",
        "\n",
        "3. El perceptrón multicapa (MLP) logra una reducción sostenida de la pérdida durante el entrenamiento:\n",
        "Con alrededor de 17,000 parámetros, el MLP muestra una buena capacidad para aprender patrones complejos. La caída progresiva del error indica que el modelo está convergiendo, pero es necesario evaluar métricas de validación para confirmar su desempeño general.\n",
        "\n",
        "4. El preprocesamiento adecuado y balanceo de clases son críticos para mejorar resultados:\n",
        "Independientemente del modelo usado, codificar correctamente las variables categóricas, escalar las características numéricas y aplicar técnicas para balancear las clases impacta de forma importante en la calidad y generalización del modelo, especialmente en datasets desbalanceados como bank-full."
      ],
      "metadata": {
        "id": "uLRcNGdKU-C9"
      }
    }
  ]
}